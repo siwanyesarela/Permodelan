{
  "cells": [
    {
      "cell_type": "markdown",
      "metadata": {
        "id": "K6gVmAJ865uO"
      },
      "source": [
        "#**Mengimport Library yang dibutuhkan**"
      ]
    },
    {
      "cell_type": "code",
      "execution_count": 2,
      "metadata": {
        "id": "R77AWlK85uMF"
      },
      "outputs": [],
      "source": [
        "# Tools for analysis\n",
        "import pandas as pd\n",
        "import numpy as np\n",
        "from sklearn.model_selection import train_test_split\n",
        "from sklearn.model_selection import KFold\n",
        "from sklearn.model_selection import GridSearchCV\n",
        "from sklearn import preprocessing\n",
        "from sklearn.preprocessing import StandardScaler\n",
        "from sklearn.decomposition import PCA\n",
        "\n",
        "# Classifiers\n",
        "from sklearn.ensemble import RandomForestClassifier\n",
        "from sklearn.neighbors import KNeighborsClassifier\n",
        "from sklearn.neural_network import MLPClassifier\n",
        "from sklearn.svm import LinearSVC\n",
        "from sklearn.svm import SVC\n",
        "from sklearn.naive_bayes import GaussianNB\n",
        "from sklearn.tree import DecisionTreeClassifier\n",
        "\n",
        "# Metrics\n",
        "from sklearn.metrics import confusion_matrix\n",
        "from sklearn.metrics import ConfusionMatrixDisplay\n",
        "from sklearn.metrics import classification_report\n",
        "from sklearn.model_selection import train_test_split\n",
        "from sklearn.preprocessing import StandardScaler\n",
        "from sklearn.metrics import accuracy_score\n",
        "from sklearn.linear_model import LogisticRegression\n",
        "from sklearn.ensemble import RandomForestClassifier, GradientBoostingClassifier\n",
        "from sklearn.svm import SVC\n",
        "from sklearn.neighbors import KNeighborsClassifier\n",
        "import matplotlib.pyplot as plt\n",
        "\n",
        "import warnings\n",
        "warnings.filterwarnings(\"ignore\")"
      ]
    },
    {
      "cell_type": "markdown",
      "metadata": {
        "id": "BSeJR1KlubDt"
      },
      "source": [
        "# **1. Data Preprocessing**"
      ]
    },
    {
      "cell_type": "markdown",
      "metadata": {
        "id": "eQiP1xlM7GEL"
      },
      "source": [
        "**Mengimport Datasheet**"
      ]
    },
    {
      "cell_type": "code",
      "execution_count": 3,
      "metadata": {
        "id": "uL2MkKsI50Ht",
        "colab": {
          "base_uri": "https://localhost:8080/",
          "height": 365
        },
        "outputId": "4a802cf3-2555-4c6f-8453-9e4d6d6994d1"
      },
      "outputs": [
        {
          "output_type": "execute_result",
          "data": {
            "text/plain": [
              "                                          name                        album  \\\n",
              "0                                         1999                         1999   \n",
              "1                                           23                           23   \n",
              "2                                     9 Crimes                            9   \n",
              "3                               99 Luftballons               99 Luftballons   \n",
              "4  A Boy Brushed Red Living In Black And White  They're Only Chasing Safety   \n",
              "\n",
              "           artist                      id    reledate  popularity  length  \\\n",
              "0          Prince  2H7PHVdQ3mXqEHXcvclTB0  1982-10-27          68  379266   \n",
              "1  Blonde Redhead  4HIwL9ii9CcXpTOTzMq0MP  2007-04-16          43  318800   \n",
              "2     Damien Rice  5GZEeowhvSieFDiR8fQ2im  2006-11-06          60  217946   \n",
              "3            Nena  6HA97v4wEGQ5TUClRM0XLc  1984-08-21           2  233000   \n",
              "4       Underoath  47IWLfIKOKhFnz1FUEUIkE  2004-01-01          60  268000   \n",
              "\n",
              "   danceability  acousticness  energy  instrumentalness  liveness  valence  \\\n",
              "0         0.866       0.13700   0.730          0.000000    0.0843    0.625   \n",
              "1         0.381       0.01890   0.832          0.196000    0.1530    0.166   \n",
              "2         0.346       0.91300   0.139          0.000077    0.0934    0.116   \n",
              "3         0.466       0.08900   0.438          0.000006    0.1130    0.587   \n",
              "4         0.419       0.00171   0.932          0.000000    0.1370    0.445   \n",
              "\n",
              "   loudness  speechiness    tempo  key  time_signature       mood  \n",
              "0    -8.201       0.0767  118.523    5               4  Happyase_  \n",
              "1    -5.069       0.0492  120.255    8               4        Sad  \n",
              "2   -15.326       0.0321  136.168    0               4        Sad  \n",
              "3   -12.858       0.0608  193.100    4               4      Happy  \n",
              "4    -3.604       0.1060  169.881    1               4  Energetic  "
            ],
            "text/html": [
              "\n",
              "  <div id=\"df-895f2b7a-d052-45ab-8f56-a01aface09a2\" class=\"colab-df-container\">\n",
              "    <div>\n",
              "<style scoped>\n",
              "    .dataframe tbody tr th:only-of-type {\n",
              "        vertical-align: middle;\n",
              "    }\n",
              "\n",
              "    .dataframe tbody tr th {\n",
              "        vertical-align: top;\n",
              "    }\n",
              "\n",
              "    .dataframe thead th {\n",
              "        text-align: right;\n",
              "    }\n",
              "</style>\n",
              "<table border=\"1\" class=\"dataframe\">\n",
              "  <thead>\n",
              "    <tr style=\"text-align: right;\">\n",
              "      <th></th>\n",
              "      <th>name</th>\n",
              "      <th>album</th>\n",
              "      <th>artist</th>\n",
              "      <th>id</th>\n",
              "      <th>reledate</th>\n",
              "      <th>popularity</th>\n",
              "      <th>length</th>\n",
              "      <th>danceability</th>\n",
              "      <th>acousticness</th>\n",
              "      <th>energy</th>\n",
              "      <th>instrumentalness</th>\n",
              "      <th>liveness</th>\n",
              "      <th>valence</th>\n",
              "      <th>loudness</th>\n",
              "      <th>speechiness</th>\n",
              "      <th>tempo</th>\n",
              "      <th>key</th>\n",
              "      <th>time_signature</th>\n",
              "      <th>mood</th>\n",
              "    </tr>\n",
              "  </thead>\n",
              "  <tbody>\n",
              "    <tr>\n",
              "      <th>0</th>\n",
              "      <td>1999</td>\n",
              "      <td>1999</td>\n",
              "      <td>Prince</td>\n",
              "      <td>2H7PHVdQ3mXqEHXcvclTB0</td>\n",
              "      <td>1982-10-27</td>\n",
              "      <td>68</td>\n",
              "      <td>379266</td>\n",
              "      <td>0.866</td>\n",
              "      <td>0.13700</td>\n",
              "      <td>0.730</td>\n",
              "      <td>0.000000</td>\n",
              "      <td>0.0843</td>\n",
              "      <td>0.625</td>\n",
              "      <td>-8.201</td>\n",
              "      <td>0.0767</td>\n",
              "      <td>118.523</td>\n",
              "      <td>5</td>\n",
              "      <td>4</td>\n",
              "      <td>Happyase_</td>\n",
              "    </tr>\n",
              "    <tr>\n",
              "      <th>1</th>\n",
              "      <td>23</td>\n",
              "      <td>23</td>\n",
              "      <td>Blonde Redhead</td>\n",
              "      <td>4HIwL9ii9CcXpTOTzMq0MP</td>\n",
              "      <td>2007-04-16</td>\n",
              "      <td>43</td>\n",
              "      <td>318800</td>\n",
              "      <td>0.381</td>\n",
              "      <td>0.01890</td>\n",
              "      <td>0.832</td>\n",
              "      <td>0.196000</td>\n",
              "      <td>0.1530</td>\n",
              "      <td>0.166</td>\n",
              "      <td>-5.069</td>\n",
              "      <td>0.0492</td>\n",
              "      <td>120.255</td>\n",
              "      <td>8</td>\n",
              "      <td>4</td>\n",
              "      <td>Sad</td>\n",
              "    </tr>\n",
              "    <tr>\n",
              "      <th>2</th>\n",
              "      <td>9 Crimes</td>\n",
              "      <td>9</td>\n",
              "      <td>Damien Rice</td>\n",
              "      <td>5GZEeowhvSieFDiR8fQ2im</td>\n",
              "      <td>2006-11-06</td>\n",
              "      <td>60</td>\n",
              "      <td>217946</td>\n",
              "      <td>0.346</td>\n",
              "      <td>0.91300</td>\n",
              "      <td>0.139</td>\n",
              "      <td>0.000077</td>\n",
              "      <td>0.0934</td>\n",
              "      <td>0.116</td>\n",
              "      <td>-15.326</td>\n",
              "      <td>0.0321</td>\n",
              "      <td>136.168</td>\n",
              "      <td>0</td>\n",
              "      <td>4</td>\n",
              "      <td>Sad</td>\n",
              "    </tr>\n",
              "    <tr>\n",
              "      <th>3</th>\n",
              "      <td>99 Luftballons</td>\n",
              "      <td>99 Luftballons</td>\n",
              "      <td>Nena</td>\n",
              "      <td>6HA97v4wEGQ5TUClRM0XLc</td>\n",
              "      <td>1984-08-21</td>\n",
              "      <td>2</td>\n",
              "      <td>233000</td>\n",
              "      <td>0.466</td>\n",
              "      <td>0.08900</td>\n",
              "      <td>0.438</td>\n",
              "      <td>0.000006</td>\n",
              "      <td>0.1130</td>\n",
              "      <td>0.587</td>\n",
              "      <td>-12.858</td>\n",
              "      <td>0.0608</td>\n",
              "      <td>193.100</td>\n",
              "      <td>4</td>\n",
              "      <td>4</td>\n",
              "      <td>Happy</td>\n",
              "    </tr>\n",
              "    <tr>\n",
              "      <th>4</th>\n",
              "      <td>A Boy Brushed Red Living In Black And White</td>\n",
              "      <td>They're Only Chasing Safety</td>\n",
              "      <td>Underoath</td>\n",
              "      <td>47IWLfIKOKhFnz1FUEUIkE</td>\n",
              "      <td>2004-01-01</td>\n",
              "      <td>60</td>\n",
              "      <td>268000</td>\n",
              "      <td>0.419</td>\n",
              "      <td>0.00171</td>\n",
              "      <td>0.932</td>\n",
              "      <td>0.000000</td>\n",
              "      <td>0.1370</td>\n",
              "      <td>0.445</td>\n",
              "      <td>-3.604</td>\n",
              "      <td>0.1060</td>\n",
              "      <td>169.881</td>\n",
              "      <td>1</td>\n",
              "      <td>4</td>\n",
              "      <td>Energetic</td>\n",
              "    </tr>\n",
              "  </tbody>\n",
              "</table>\n",
              "</div>\n",
              "    <div class=\"colab-df-buttons\">\n",
              "\n",
              "  <div class=\"colab-df-container\">\n",
              "    <button class=\"colab-df-convert\" onclick=\"convertToInteractive('df-895f2b7a-d052-45ab-8f56-a01aface09a2')\"\n",
              "            title=\"Convert this dataframe to an interactive table.\"\n",
              "            style=\"display:none;\">\n",
              "\n",
              "  <svg xmlns=\"http://www.w3.org/2000/svg\" height=\"24px\" viewBox=\"0 -960 960 960\">\n",
              "    <path d=\"M120-120v-720h720v720H120Zm60-500h600v-160H180v160Zm220 220h160v-160H400v160Zm0 220h160v-160H400v160ZM180-400h160v-160H180v160Zm440 0h160v-160H620v160ZM180-180h160v-160H180v160Zm440 0h160v-160H620v160Z\"/>\n",
              "  </svg>\n",
              "    </button>\n",
              "\n",
              "  <style>\n",
              "    .colab-df-container {\n",
              "      display:flex;\n",
              "      gap: 12px;\n",
              "    }\n",
              "\n",
              "    .colab-df-convert {\n",
              "      background-color: #E8F0FE;\n",
              "      border: none;\n",
              "      border-radius: 50%;\n",
              "      cursor: pointer;\n",
              "      display: none;\n",
              "      fill: #1967D2;\n",
              "      height: 32px;\n",
              "      padding: 0 0 0 0;\n",
              "      width: 32px;\n",
              "    }\n",
              "\n",
              "    .colab-df-convert:hover {\n",
              "      background-color: #E2EBFA;\n",
              "      box-shadow: 0px 1px 2px rgba(60, 64, 67, 0.3), 0px 1px 3px 1px rgba(60, 64, 67, 0.15);\n",
              "      fill: #174EA6;\n",
              "    }\n",
              "\n",
              "    .colab-df-buttons div {\n",
              "      margin-bottom: 4px;\n",
              "    }\n",
              "\n",
              "    [theme=dark] .colab-df-convert {\n",
              "      background-color: #3B4455;\n",
              "      fill: #D2E3FC;\n",
              "    }\n",
              "\n",
              "    [theme=dark] .colab-df-convert:hover {\n",
              "      background-color: #434B5C;\n",
              "      box-shadow: 0px 1px 3px 1px rgba(0, 0, 0, 0.15);\n",
              "      filter: drop-shadow(0px 1px 2px rgba(0, 0, 0, 0.3));\n",
              "      fill: #FFFFFF;\n",
              "    }\n",
              "  </style>\n",
              "\n",
              "    <script>\n",
              "      const buttonEl =\n",
              "        document.querySelector('#df-895f2b7a-d052-45ab-8f56-a01aface09a2 button.colab-df-convert');\n",
              "      buttonEl.style.display =\n",
              "        google.colab.kernel.accessAllowed ? 'block' : 'none';\n",
              "\n",
              "      async function convertToInteractive(key) {\n",
              "        const element = document.querySelector('#df-895f2b7a-d052-45ab-8f56-a01aface09a2');\n",
              "        const dataTable =\n",
              "          await google.colab.kernel.invokeFunction('convertToInteractive',\n",
              "                                                    [key], {});\n",
              "        if (!dataTable) return;\n",
              "\n",
              "        const docLinkHtml = 'Like what you see? Visit the ' +\n",
              "          '<a target=\"_blank\" href=https://colab.research.google.com/notebooks/data_table.ipynb>data table notebook</a>'\n",
              "          + ' to learn more about interactive tables.';\n",
              "        element.innerHTML = '';\n",
              "        dataTable['output_type'] = 'display_data';\n",
              "        await google.colab.output.renderOutput(dataTable, element);\n",
              "        const docLink = document.createElement('div');\n",
              "        docLink.innerHTML = docLinkHtml;\n",
              "        element.appendChild(docLink);\n",
              "      }\n",
              "    </script>\n",
              "  </div>\n",
              "\n",
              "\n",
              "<div id=\"df-a097d36c-1522-489c-9eea-b93c5ae23f69\">\n",
              "  <button class=\"colab-df-quickchart\" onclick=\"quickchart('df-a097d36c-1522-489c-9eea-b93c5ae23f69')\"\n",
              "            title=\"Suggest charts\"\n",
              "            style=\"display:none;\">\n",
              "\n",
              "<svg xmlns=\"http://www.w3.org/2000/svg\" height=\"24px\"viewBox=\"0 0 24 24\"\n",
              "     width=\"24px\">\n",
              "    <g>\n",
              "        <path d=\"M19 3H5c-1.1 0-2 .9-2 2v14c0 1.1.9 2 2 2h14c1.1 0 2-.9 2-2V5c0-1.1-.9-2-2-2zM9 17H7v-7h2v7zm4 0h-2V7h2v10zm4 0h-2v-4h2v4z\"/>\n",
              "    </g>\n",
              "</svg>\n",
              "  </button>\n",
              "\n",
              "<style>\n",
              "  .colab-df-quickchart {\n",
              "      --bg-color: #E8F0FE;\n",
              "      --fill-color: #1967D2;\n",
              "      --hover-bg-color: #E2EBFA;\n",
              "      --hover-fill-color: #174EA6;\n",
              "      --disabled-fill-color: #AAA;\n",
              "      --disabled-bg-color: #DDD;\n",
              "  }\n",
              "\n",
              "  [theme=dark] .colab-df-quickchart {\n",
              "      --bg-color: #3B4455;\n",
              "      --fill-color: #D2E3FC;\n",
              "      --hover-bg-color: #434B5C;\n",
              "      --hover-fill-color: #FFFFFF;\n",
              "      --disabled-bg-color: #3B4455;\n",
              "      --disabled-fill-color: #666;\n",
              "  }\n",
              "\n",
              "  .colab-df-quickchart {\n",
              "    background-color: var(--bg-color);\n",
              "    border: none;\n",
              "    border-radius: 50%;\n",
              "    cursor: pointer;\n",
              "    display: none;\n",
              "    fill: var(--fill-color);\n",
              "    height: 32px;\n",
              "    padding: 0;\n",
              "    width: 32px;\n",
              "  }\n",
              "\n",
              "  .colab-df-quickchart:hover {\n",
              "    background-color: var(--hover-bg-color);\n",
              "    box-shadow: 0 1px 2px rgba(60, 64, 67, 0.3), 0 1px 3px 1px rgba(60, 64, 67, 0.15);\n",
              "    fill: var(--button-hover-fill-color);\n",
              "  }\n",
              "\n",
              "  .colab-df-quickchart-complete:disabled,\n",
              "  .colab-df-quickchart-complete:disabled:hover {\n",
              "    background-color: var(--disabled-bg-color);\n",
              "    fill: var(--disabled-fill-color);\n",
              "    box-shadow: none;\n",
              "  }\n",
              "\n",
              "  .colab-df-spinner {\n",
              "    border: 2px solid var(--fill-color);\n",
              "    border-color: transparent;\n",
              "    border-bottom-color: var(--fill-color);\n",
              "    animation:\n",
              "      spin 1s steps(1) infinite;\n",
              "  }\n",
              "\n",
              "  @keyframes spin {\n",
              "    0% {\n",
              "      border-color: transparent;\n",
              "      border-bottom-color: var(--fill-color);\n",
              "      border-left-color: var(--fill-color);\n",
              "    }\n",
              "    20% {\n",
              "      border-color: transparent;\n",
              "      border-left-color: var(--fill-color);\n",
              "      border-top-color: var(--fill-color);\n",
              "    }\n",
              "    30% {\n",
              "      border-color: transparent;\n",
              "      border-left-color: var(--fill-color);\n",
              "      border-top-color: var(--fill-color);\n",
              "      border-right-color: var(--fill-color);\n",
              "    }\n",
              "    40% {\n",
              "      border-color: transparent;\n",
              "      border-right-color: var(--fill-color);\n",
              "      border-top-color: var(--fill-color);\n",
              "    }\n",
              "    60% {\n",
              "      border-color: transparent;\n",
              "      border-right-color: var(--fill-color);\n",
              "    }\n",
              "    80% {\n",
              "      border-color: transparent;\n",
              "      border-right-color: var(--fill-color);\n",
              "      border-bottom-color: var(--fill-color);\n",
              "    }\n",
              "    90% {\n",
              "      border-color: transparent;\n",
              "      border-bottom-color: var(--fill-color);\n",
              "    }\n",
              "  }\n",
              "</style>\n",
              "\n",
              "  <script>\n",
              "    async function quickchart(key) {\n",
              "      const quickchartButtonEl =\n",
              "        document.querySelector('#' + key + ' button');\n",
              "      quickchartButtonEl.disabled = true;  // To prevent multiple clicks.\n",
              "      quickchartButtonEl.classList.add('colab-df-spinner');\n",
              "      try {\n",
              "        const charts = await google.colab.kernel.invokeFunction(\n",
              "            'suggestCharts', [key], {});\n",
              "      } catch (error) {\n",
              "        console.error('Error during call to suggestCharts:', error);\n",
              "      }\n",
              "      quickchartButtonEl.classList.remove('colab-df-spinner');\n",
              "      quickchartButtonEl.classList.add('colab-df-quickchart-complete');\n",
              "    }\n",
              "    (() => {\n",
              "      let quickchartButtonEl =\n",
              "        document.querySelector('#df-a097d36c-1522-489c-9eea-b93c5ae23f69 button');\n",
              "      quickchartButtonEl.style.display =\n",
              "        google.colab.kernel.accessAllowed ? 'block' : 'none';\n",
              "    })();\n",
              "  </script>\n",
              "</div>\n",
              "\n",
              "    </div>\n",
              "  </div>\n"
            ],
            "application/vnd.google.colaboratory.intrinsic+json": {
              "type": "dataframe",
              "variable_name": "data_moods",
              "summary": "{\n  \"name\": \"data_moods\",\n  \"rows\": 686,\n  \"fields\": [\n    {\n      \"column\": \"name\",\n      \"properties\": {\n        \"dtype\": \"string\",\n        \"num_unique_values\": 686,\n        \"samples\": [\n          \"Kaolnite\",\n          \"Wonderful Together (feat. Envy Monroe)\",\n          \"I'm Not Okay (I Promise)\"\n        ],\n        \"semantic_type\": \"\",\n        \"description\": \"\"\n      }\n    },\n    {\n      \"column\": \"album\",\n      \"properties\": {\n        \"dtype\": \"string\",\n        \"num_unique_values\": 661,\n        \"samples\": [\n          \"Words I Heard\",\n          \"Built From Scratch\",\n          \"Dear Diary\"\n        ],\n        \"semantic_type\": \"\",\n        \"description\": \"\"\n      }\n    },\n    {\n      \"column\": \"artist\",\n      \"properties\": {\n        \"dtype\": \"string\",\n        \"num_unique_values\": 540,\n        \"samples\": [\n          \"Godsmack\",\n          \"Isaac Elton\",\n          \"Jef Martens\"\n        ],\n        \"semantic_type\": \"\",\n        \"description\": \"\"\n      }\n    },\n    {\n      \"column\": \"id\",\n      \"properties\": {\n        \"dtype\": \"string\",\n        \"num_unique_values\": 686,\n        \"samples\": [\n          \"4fItBSHKBcgKWixN1Idie5\",\n          \"3UaStdVN7y9A6ktTmkFDTk\",\n          \"7lRlq939cDG4SzWOF4VAnd\"\n        ],\n        \"semantic_type\": \"\",\n        \"description\": \"\"\n      }\n    },\n    {\n      \"column\": \"reledate\",\n      \"properties\": {\n        \"dtype\": \"string\",\n        \"num_unique_values\": 450,\n        \"samples\": [\n          \"2019-02-26\",\n          \"2019-11-11\",\n          \"2019-09-27\"\n        ],\n        \"semantic_type\": \"\",\n        \"description\": \"\"\n      }\n    },\n    {\n      \"column\": \"popularity\",\n      \"properties\": {\n        \"dtype\": \"number\",\n        \"std\": 23,\n        \"min\": 0,\n        \"max\": 88,\n        \"num_unique_values\": 83,\n        \"samples\": [\n          50,\n          68,\n          44\n        ],\n        \"semantic_type\": \"\",\n        \"description\": \"\"\n      }\n    },\n    {\n      \"column\": \"length\",\n      \"properties\": {\n        \"dtype\": \"number\",\n        \"std\": 63399,\n        \"min\": 76773,\n        \"max\": 518373,\n        \"num_unique_values\": 673,\n        \"samples\": [\n          495400,\n          227266,\n          213373\n        ],\n        \"semantic_type\": \"\",\n        \"description\": \"\"\n      }\n    },\n    {\n      \"column\": \"danceability\",\n      \"properties\": {\n        \"dtype\": \"number\",\n        \"std\": 0.15895460348923485,\n        \"min\": 0.0789,\n        \"max\": 0.941,\n        \"num_unique_values\": 409,\n        \"samples\": [\n          0.64,\n          0.605,\n          0.701\n        ],\n        \"semantic_type\": \"\",\n        \"description\": \"\"\n      }\n    },\n    {\n      \"column\": \"acousticness\",\n      \"properties\": {\n        \"dtype\": \"number\",\n        \"std\": 0.41072949584765744,\n        \"min\": 5.36e-06,\n        \"max\": 0.996,\n        \"num_unique_values\": 522,\n        \"samples\": [\n          0.0262,\n          0.343,\n          0.994\n        ],\n        \"semantic_type\": \"\",\n        \"description\": \"\"\n      }\n    },\n    {\n      \"column\": \"energy\",\n      \"properties\": {\n        \"dtype\": \"number\",\n        \"std\": 0.32649006583012014,\n        \"min\": 0.00129,\n        \"max\": 0.994,\n        \"num_unique_values\": 510,\n        \"samples\": [\n          0.8959999999999999,\n          0.0077,\n          0.378\n        ],\n        \"semantic_type\": \"\",\n        \"description\": \"\"\n      }\n    },\n    {\n      \"column\": \"instrumentalness\",\n      \"properties\": {\n        \"dtype\": \"number\",\n        \"std\": 0.41051738163068147,\n        \"min\": 0.0,\n        \"max\": 0.966,\n        \"num_unique_values\": 472,\n        \"samples\": [\n          1.08e-06,\n          0.926,\n          0.0679\n        ],\n        \"semantic_type\": \"\",\n        \"description\": \"\"\n      }\n    },\n    {\n      \"column\": \"liveness\",\n      \"properties\": {\n        \"dtype\": \"number\",\n        \"std\": 0.14212755587434064,\n        \"min\": 0.0318,\n        \"max\": 0.963,\n        \"num_unique_values\": 388,\n        \"samples\": [\n          0.175,\n          0.156,\n          0.0737\n        ],\n        \"semantic_type\": \"\",\n        \"description\": \"\"\n      }\n    },\n    {\n      \"column\": \"valence\",\n      \"properties\": {\n        \"dtype\": \"number\",\n        \"std\": 0.2523038620731956,\n        \"min\": 0.0353,\n        \"max\": 0.977,\n        \"num_unique_values\": 507,\n        \"samples\": [\n          0.138,\n          0.414,\n          0.0774\n        ],\n        \"semantic_type\": \"\",\n        \"description\": \"\"\n      }\n    },\n    {\n      \"column\": \"loudness\",\n      \"properties\": {\n        \"dtype\": \"number\",\n        \"std\": 7.468628623052026,\n        \"min\": -42.018,\n        \"max\": 1.342,\n        \"num_unique_values\": 671,\n        \"samples\": [\n          -7.693,\n          -18.225,\n          -14.421\n        ],\n        \"semantic_type\": \"\",\n        \"description\": \"\"\n      }\n    },\n    {\n      \"column\": \"speechiness\",\n      \"properties\": {\n        \"dtype\": \"number\",\n        \"std\": 0.041373826578650554,\n        \"min\": 0.0232,\n        \"max\": 0.416,\n        \"num_unique_values\": 379,\n        \"samples\": [\n          0.0517,\n          0.173,\n          0.0374\n        ],\n        \"semantic_type\": \"\",\n        \"description\": \"\"\n      }\n    },\n    {\n      \"column\": \"tempo\",\n      \"properties\": {\n        \"dtype\": \"number\",\n        \"std\": 28.978685248557404,\n        \"min\": 50.96,\n        \"max\": 217.95,\n        \"num_unique_values\": 673,\n        \"samples\": [\n          159.37,\n          105.929,\n          124.989\n        ],\n        \"semantic_type\": \"\",\n        \"description\": \"\"\n      }\n    },\n    {\n      \"column\": \"key\",\n      \"properties\": {\n        \"dtype\": \"number\",\n        \"std\": 3,\n        \"min\": 0,\n        \"max\": 11,\n        \"num_unique_values\": 12,\n        \"samples\": [\n          2,\n          9,\n          5\n        ],\n        \"semantic_type\": \"\",\n        \"description\": \"\"\n      }\n    },\n    {\n      \"column\": \"time_signature\",\n      \"properties\": {\n        \"dtype\": \"number\",\n        \"std\": 0,\n        \"min\": 1,\n        \"max\": 5,\n        \"num_unique_values\": 4,\n        \"samples\": [\n          5,\n          1,\n          4\n        ],\n        \"semantic_type\": \"\",\n        \"description\": \"\"\n      }\n    },\n    {\n      \"column\": \"mood\",\n      \"properties\": {\n        \"dtype\": \"category\",\n        \"num_unique_values\": 5,\n        \"samples\": [\n          \"Sad\",\n          \"Calm\",\n          \"Happy\"\n        ],\n        \"semantic_type\": \"\",\n        \"description\": \"\"\n      }\n    }\n  ]\n}"
            }
          },
          "metadata": {},
          "execution_count": 3
        }
      ],
      "source": [
        "data_moods = pd.read_csv('/content/data_moods.csv')\n",
        "data_moods.head()"
      ]
    },
    {
      "cell_type": "code",
      "execution_count": 5,
      "metadata": {
        "colab": {
          "base_uri": "https://localhost:8080/"
        },
        "id": "DBb8kQGM6CBR",
        "outputId": "f54a171b-8285-4493-a109-057d1243ee4f"
      },
      "outputs": [
        {
          "output_type": "stream",
          "name": "stdout",
          "text": [
            "<class 'pandas.core.frame.DataFrame'>\n",
            "RangeIndex: 686 entries, 0 to 685\n",
            "Data columns (total 19 columns):\n",
            " #   Column            Non-Null Count  Dtype  \n",
            "---  ------            --------------  -----  \n",
            " 0   name              686 non-null    object \n",
            " 1   album             686 non-null    object \n",
            " 2   artist            686 non-null    object \n",
            " 3   id                686 non-null    object \n",
            " 4   reledate          686 non-null    object \n",
            " 5   popularity        686 non-null    int64  \n",
            " 6   length            686 non-null    int64  \n",
            " 7   danceability      686 non-null    float64\n",
            " 8   acousticness      686 non-null    float64\n",
            " 9   energy            686 non-null    float64\n",
            " 10  instrumentalness  686 non-null    float64\n",
            " 11  liveness          686 non-null    float64\n",
            " 12  valence           686 non-null    float64\n",
            " 13  loudness          686 non-null    float64\n",
            " 14  speechiness       686 non-null    float64\n",
            " 15  tempo             686 non-null    float64\n",
            " 16  key               686 non-null    int64  \n",
            " 17  time_signature    686 non-null    int64  \n",
            " 18  mood              686 non-null    object \n",
            "dtypes: float64(9), int64(4), object(6)\n",
            "memory usage: 102.0+ KB\n",
            "None\n"
          ]
        }
      ],
      "source": [
        "print(data_moods.info())"
      ]
    },
    {
      "cell_type": "markdown",
      "metadata": {
        "id": "Oxbdbs9yLHKk"
      },
      "source": [
        "**Menampilkan summary dari datasheet**"
      ]
    },
    {
      "cell_type": "code",
      "execution_count": 6,
      "metadata": {
        "colab": {
          "base_uri": "https://localhost:8080/",
          "height": 300
        },
        "id": "cpdJlBl7LFE7",
        "outputId": "7bfda1af-407d-4c6e-ac4e-9616655d3735"
      },
      "outputs": [
        {
          "output_type": "execute_result",
          "data": {
            "text/plain": [
              "       popularity         length  danceability  acousticness      energy  \\\n",
              "count  686.000000     686.000000    686.000000    686.000000  686.000000   \n",
              "mean    41.534985  221791.485423      0.500553      0.449749    0.507693   \n",
              "std     23.045707   63399.058492      0.158955      0.410729    0.326490   \n",
              "min      0.000000   76773.000000      0.078900      0.000005    0.001290   \n",
              "25%     30.000000  179114.500000      0.388000      0.014825    0.202000   \n",
              "50%     47.000000  213273.000000      0.505000      0.359000    0.495500   \n",
              "75%     57.000000  254569.750000      0.612000      0.905750    0.844000   \n",
              "max     88.000000  518373.000000      0.941000      0.996000    0.994000   \n",
              "\n",
              "       instrumentalness    liveness     valence    loudness  speechiness  \\\n",
              "count        686.000000  686.000000  686.000000  686.000000   686.000000   \n",
              "mean           0.349610    0.166867    0.342438  -11.531020     0.053946   \n",
              "std            0.410517    0.142128    0.252304    7.468629     0.041374   \n",
              "min            0.000000    0.031800    0.035300  -42.018000     0.023200   \n",
              "25%            0.000034    0.092500    0.131250  -15.858750     0.033200   \n",
              "50%            0.026350    0.111000    0.282000   -9.358000     0.040700   \n",
              "75%            0.858250    0.173750    0.508750   -5.634500     0.057375   \n",
              "max            0.966000    0.963000    0.977000    1.342000     0.416000   \n",
              "\n",
              "            tempo         key  time_signature  \n",
              "count  686.000000  686.000000      686.000000  \n",
              "mean   119.134679    5.335277        3.870262  \n",
              "std     28.978685    3.550858        0.500297  \n",
              "min     50.960000    0.000000        1.000000  \n",
              "25%     99.008750    2.000000        4.000000  \n",
              "50%    120.071000    6.000000        4.000000  \n",
              "75%    132.953250    9.000000        4.000000  \n",
              "max    217.950000   11.000000        5.000000  "
            ],
            "text/html": [
              "\n",
              "  <div id=\"df-df2402ae-c62f-4374-b869-73a3b5411cb0\" class=\"colab-df-container\">\n",
              "    <div>\n",
              "<style scoped>\n",
              "    .dataframe tbody tr th:only-of-type {\n",
              "        vertical-align: middle;\n",
              "    }\n",
              "\n",
              "    .dataframe tbody tr th {\n",
              "        vertical-align: top;\n",
              "    }\n",
              "\n",
              "    .dataframe thead th {\n",
              "        text-align: right;\n",
              "    }\n",
              "</style>\n",
              "<table border=\"1\" class=\"dataframe\">\n",
              "  <thead>\n",
              "    <tr style=\"text-align: right;\">\n",
              "      <th></th>\n",
              "      <th>popularity</th>\n",
              "      <th>length</th>\n",
              "      <th>danceability</th>\n",
              "      <th>acousticness</th>\n",
              "      <th>energy</th>\n",
              "      <th>instrumentalness</th>\n",
              "      <th>liveness</th>\n",
              "      <th>valence</th>\n",
              "      <th>loudness</th>\n",
              "      <th>speechiness</th>\n",
              "      <th>tempo</th>\n",
              "      <th>key</th>\n",
              "      <th>time_signature</th>\n",
              "    </tr>\n",
              "  </thead>\n",
              "  <tbody>\n",
              "    <tr>\n",
              "      <th>count</th>\n",
              "      <td>686.000000</td>\n",
              "      <td>686.000000</td>\n",
              "      <td>686.000000</td>\n",
              "      <td>686.000000</td>\n",
              "      <td>686.000000</td>\n",
              "      <td>686.000000</td>\n",
              "      <td>686.000000</td>\n",
              "      <td>686.000000</td>\n",
              "      <td>686.000000</td>\n",
              "      <td>686.000000</td>\n",
              "      <td>686.000000</td>\n",
              "      <td>686.000000</td>\n",
              "      <td>686.000000</td>\n",
              "    </tr>\n",
              "    <tr>\n",
              "      <th>mean</th>\n",
              "      <td>41.534985</td>\n",
              "      <td>221791.485423</td>\n",
              "      <td>0.500553</td>\n",
              "      <td>0.449749</td>\n",
              "      <td>0.507693</td>\n",
              "      <td>0.349610</td>\n",
              "      <td>0.166867</td>\n",
              "      <td>0.342438</td>\n",
              "      <td>-11.531020</td>\n",
              "      <td>0.053946</td>\n",
              "      <td>119.134679</td>\n",
              "      <td>5.335277</td>\n",
              "      <td>3.870262</td>\n",
              "    </tr>\n",
              "    <tr>\n",
              "      <th>std</th>\n",
              "      <td>23.045707</td>\n",
              "      <td>63399.058492</td>\n",
              "      <td>0.158955</td>\n",
              "      <td>0.410729</td>\n",
              "      <td>0.326490</td>\n",
              "      <td>0.410517</td>\n",
              "      <td>0.142128</td>\n",
              "      <td>0.252304</td>\n",
              "      <td>7.468629</td>\n",
              "      <td>0.041374</td>\n",
              "      <td>28.978685</td>\n",
              "      <td>3.550858</td>\n",
              "      <td>0.500297</td>\n",
              "    </tr>\n",
              "    <tr>\n",
              "      <th>min</th>\n",
              "      <td>0.000000</td>\n",
              "      <td>76773.000000</td>\n",
              "      <td>0.078900</td>\n",
              "      <td>0.000005</td>\n",
              "      <td>0.001290</td>\n",
              "      <td>0.000000</td>\n",
              "      <td>0.031800</td>\n",
              "      <td>0.035300</td>\n",
              "      <td>-42.018000</td>\n",
              "      <td>0.023200</td>\n",
              "      <td>50.960000</td>\n",
              "      <td>0.000000</td>\n",
              "      <td>1.000000</td>\n",
              "    </tr>\n",
              "    <tr>\n",
              "      <th>25%</th>\n",
              "      <td>30.000000</td>\n",
              "      <td>179114.500000</td>\n",
              "      <td>0.388000</td>\n",
              "      <td>0.014825</td>\n",
              "      <td>0.202000</td>\n",
              "      <td>0.000034</td>\n",
              "      <td>0.092500</td>\n",
              "      <td>0.131250</td>\n",
              "      <td>-15.858750</td>\n",
              "      <td>0.033200</td>\n",
              "      <td>99.008750</td>\n",
              "      <td>2.000000</td>\n",
              "      <td>4.000000</td>\n",
              "    </tr>\n",
              "    <tr>\n",
              "      <th>50%</th>\n",
              "      <td>47.000000</td>\n",
              "      <td>213273.000000</td>\n",
              "      <td>0.505000</td>\n",
              "      <td>0.359000</td>\n",
              "      <td>0.495500</td>\n",
              "      <td>0.026350</td>\n",
              "      <td>0.111000</td>\n",
              "      <td>0.282000</td>\n",
              "      <td>-9.358000</td>\n",
              "      <td>0.040700</td>\n",
              "      <td>120.071000</td>\n",
              "      <td>6.000000</td>\n",
              "      <td>4.000000</td>\n",
              "    </tr>\n",
              "    <tr>\n",
              "      <th>75%</th>\n",
              "      <td>57.000000</td>\n",
              "      <td>254569.750000</td>\n",
              "      <td>0.612000</td>\n",
              "      <td>0.905750</td>\n",
              "      <td>0.844000</td>\n",
              "      <td>0.858250</td>\n",
              "      <td>0.173750</td>\n",
              "      <td>0.508750</td>\n",
              "      <td>-5.634500</td>\n",
              "      <td>0.057375</td>\n",
              "      <td>132.953250</td>\n",
              "      <td>9.000000</td>\n",
              "      <td>4.000000</td>\n",
              "    </tr>\n",
              "    <tr>\n",
              "      <th>max</th>\n",
              "      <td>88.000000</td>\n",
              "      <td>518373.000000</td>\n",
              "      <td>0.941000</td>\n",
              "      <td>0.996000</td>\n",
              "      <td>0.994000</td>\n",
              "      <td>0.966000</td>\n",
              "      <td>0.963000</td>\n",
              "      <td>0.977000</td>\n",
              "      <td>1.342000</td>\n",
              "      <td>0.416000</td>\n",
              "      <td>217.950000</td>\n",
              "      <td>11.000000</td>\n",
              "      <td>5.000000</td>\n",
              "    </tr>\n",
              "  </tbody>\n",
              "</table>\n",
              "</div>\n",
              "    <div class=\"colab-df-buttons\">\n",
              "\n",
              "  <div class=\"colab-df-container\">\n",
              "    <button class=\"colab-df-convert\" onclick=\"convertToInteractive('df-df2402ae-c62f-4374-b869-73a3b5411cb0')\"\n",
              "            title=\"Convert this dataframe to an interactive table.\"\n",
              "            style=\"display:none;\">\n",
              "\n",
              "  <svg xmlns=\"http://www.w3.org/2000/svg\" height=\"24px\" viewBox=\"0 -960 960 960\">\n",
              "    <path d=\"M120-120v-720h720v720H120Zm60-500h600v-160H180v160Zm220 220h160v-160H400v160Zm0 220h160v-160H400v160ZM180-400h160v-160H180v160Zm440 0h160v-160H620v160ZM180-180h160v-160H180v160Zm440 0h160v-160H620v160Z\"/>\n",
              "  </svg>\n",
              "    </button>\n",
              "\n",
              "  <style>\n",
              "    .colab-df-container {\n",
              "      display:flex;\n",
              "      gap: 12px;\n",
              "    }\n",
              "\n",
              "    .colab-df-convert {\n",
              "      background-color: #E8F0FE;\n",
              "      border: none;\n",
              "      border-radius: 50%;\n",
              "      cursor: pointer;\n",
              "      display: none;\n",
              "      fill: #1967D2;\n",
              "      height: 32px;\n",
              "      padding: 0 0 0 0;\n",
              "      width: 32px;\n",
              "    }\n",
              "\n",
              "    .colab-df-convert:hover {\n",
              "      background-color: #E2EBFA;\n",
              "      box-shadow: 0px 1px 2px rgba(60, 64, 67, 0.3), 0px 1px 3px 1px rgba(60, 64, 67, 0.15);\n",
              "      fill: #174EA6;\n",
              "    }\n",
              "\n",
              "    .colab-df-buttons div {\n",
              "      margin-bottom: 4px;\n",
              "    }\n",
              "\n",
              "    [theme=dark] .colab-df-convert {\n",
              "      background-color: #3B4455;\n",
              "      fill: #D2E3FC;\n",
              "    }\n",
              "\n",
              "    [theme=dark] .colab-df-convert:hover {\n",
              "      background-color: #434B5C;\n",
              "      box-shadow: 0px 1px 3px 1px rgba(0, 0, 0, 0.15);\n",
              "      filter: drop-shadow(0px 1px 2px rgba(0, 0, 0, 0.3));\n",
              "      fill: #FFFFFF;\n",
              "    }\n",
              "  </style>\n",
              "\n",
              "    <script>\n",
              "      const buttonEl =\n",
              "        document.querySelector('#df-df2402ae-c62f-4374-b869-73a3b5411cb0 button.colab-df-convert');\n",
              "      buttonEl.style.display =\n",
              "        google.colab.kernel.accessAllowed ? 'block' : 'none';\n",
              "\n",
              "      async function convertToInteractive(key) {\n",
              "        const element = document.querySelector('#df-df2402ae-c62f-4374-b869-73a3b5411cb0');\n",
              "        const dataTable =\n",
              "          await google.colab.kernel.invokeFunction('convertToInteractive',\n",
              "                                                    [key], {});\n",
              "        if (!dataTable) return;\n",
              "\n",
              "        const docLinkHtml = 'Like what you see? Visit the ' +\n",
              "          '<a target=\"_blank\" href=https://colab.research.google.com/notebooks/data_table.ipynb>data table notebook</a>'\n",
              "          + ' to learn more about interactive tables.';\n",
              "        element.innerHTML = '';\n",
              "        dataTable['output_type'] = 'display_data';\n",
              "        await google.colab.output.renderOutput(dataTable, element);\n",
              "        const docLink = document.createElement('div');\n",
              "        docLink.innerHTML = docLinkHtml;\n",
              "        element.appendChild(docLink);\n",
              "      }\n",
              "    </script>\n",
              "  </div>\n",
              "\n",
              "\n",
              "<div id=\"df-b25cfb09-2626-4d36-b56b-25f72eb8aa1f\">\n",
              "  <button class=\"colab-df-quickchart\" onclick=\"quickchart('df-b25cfb09-2626-4d36-b56b-25f72eb8aa1f')\"\n",
              "            title=\"Suggest charts\"\n",
              "            style=\"display:none;\">\n",
              "\n",
              "<svg xmlns=\"http://www.w3.org/2000/svg\" height=\"24px\"viewBox=\"0 0 24 24\"\n",
              "     width=\"24px\">\n",
              "    <g>\n",
              "        <path d=\"M19 3H5c-1.1 0-2 .9-2 2v14c0 1.1.9 2 2 2h14c1.1 0 2-.9 2-2V5c0-1.1-.9-2-2-2zM9 17H7v-7h2v7zm4 0h-2V7h2v10zm4 0h-2v-4h2v4z\"/>\n",
              "    </g>\n",
              "</svg>\n",
              "  </button>\n",
              "\n",
              "<style>\n",
              "  .colab-df-quickchart {\n",
              "      --bg-color: #E8F0FE;\n",
              "      --fill-color: #1967D2;\n",
              "      --hover-bg-color: #E2EBFA;\n",
              "      --hover-fill-color: #174EA6;\n",
              "      --disabled-fill-color: #AAA;\n",
              "      --disabled-bg-color: #DDD;\n",
              "  }\n",
              "\n",
              "  [theme=dark] .colab-df-quickchart {\n",
              "      --bg-color: #3B4455;\n",
              "      --fill-color: #D2E3FC;\n",
              "      --hover-bg-color: #434B5C;\n",
              "      --hover-fill-color: #FFFFFF;\n",
              "      --disabled-bg-color: #3B4455;\n",
              "      --disabled-fill-color: #666;\n",
              "  }\n",
              "\n",
              "  .colab-df-quickchart {\n",
              "    background-color: var(--bg-color);\n",
              "    border: none;\n",
              "    border-radius: 50%;\n",
              "    cursor: pointer;\n",
              "    display: none;\n",
              "    fill: var(--fill-color);\n",
              "    height: 32px;\n",
              "    padding: 0;\n",
              "    width: 32px;\n",
              "  }\n",
              "\n",
              "  .colab-df-quickchart:hover {\n",
              "    background-color: var(--hover-bg-color);\n",
              "    box-shadow: 0 1px 2px rgba(60, 64, 67, 0.3), 0 1px 3px 1px rgba(60, 64, 67, 0.15);\n",
              "    fill: var(--button-hover-fill-color);\n",
              "  }\n",
              "\n",
              "  .colab-df-quickchart-complete:disabled,\n",
              "  .colab-df-quickchart-complete:disabled:hover {\n",
              "    background-color: var(--disabled-bg-color);\n",
              "    fill: var(--disabled-fill-color);\n",
              "    box-shadow: none;\n",
              "  }\n",
              "\n",
              "  .colab-df-spinner {\n",
              "    border: 2px solid var(--fill-color);\n",
              "    border-color: transparent;\n",
              "    border-bottom-color: var(--fill-color);\n",
              "    animation:\n",
              "      spin 1s steps(1) infinite;\n",
              "  }\n",
              "\n",
              "  @keyframes spin {\n",
              "    0% {\n",
              "      border-color: transparent;\n",
              "      border-bottom-color: var(--fill-color);\n",
              "      border-left-color: var(--fill-color);\n",
              "    }\n",
              "    20% {\n",
              "      border-color: transparent;\n",
              "      border-left-color: var(--fill-color);\n",
              "      border-top-color: var(--fill-color);\n",
              "    }\n",
              "    30% {\n",
              "      border-color: transparent;\n",
              "      border-left-color: var(--fill-color);\n",
              "      border-top-color: var(--fill-color);\n",
              "      border-right-color: var(--fill-color);\n",
              "    }\n",
              "    40% {\n",
              "      border-color: transparent;\n",
              "      border-right-color: var(--fill-color);\n",
              "      border-top-color: var(--fill-color);\n",
              "    }\n",
              "    60% {\n",
              "      border-color: transparent;\n",
              "      border-right-color: var(--fill-color);\n",
              "    }\n",
              "    80% {\n",
              "      border-color: transparent;\n",
              "      border-right-color: var(--fill-color);\n",
              "      border-bottom-color: var(--fill-color);\n",
              "    }\n",
              "    90% {\n",
              "      border-color: transparent;\n",
              "      border-bottom-color: var(--fill-color);\n",
              "    }\n",
              "  }\n",
              "</style>\n",
              "\n",
              "  <script>\n",
              "    async function quickchart(key) {\n",
              "      const quickchartButtonEl =\n",
              "        document.querySelector('#' + key + ' button');\n",
              "      quickchartButtonEl.disabled = true;  // To prevent multiple clicks.\n",
              "      quickchartButtonEl.classList.add('colab-df-spinner');\n",
              "      try {\n",
              "        const charts = await google.colab.kernel.invokeFunction(\n",
              "            'suggestCharts', [key], {});\n",
              "      } catch (error) {\n",
              "        console.error('Error during call to suggestCharts:', error);\n",
              "      }\n",
              "      quickchartButtonEl.classList.remove('colab-df-spinner');\n",
              "      quickchartButtonEl.classList.add('colab-df-quickchart-complete');\n",
              "    }\n",
              "    (() => {\n",
              "      let quickchartButtonEl =\n",
              "        document.querySelector('#df-b25cfb09-2626-4d36-b56b-25f72eb8aa1f button');\n",
              "      quickchartButtonEl.style.display =\n",
              "        google.colab.kernel.accessAllowed ? 'block' : 'none';\n",
              "    })();\n",
              "  </script>\n",
              "</div>\n",
              "\n",
              "    </div>\n",
              "  </div>\n"
            ],
            "application/vnd.google.colaboratory.intrinsic+json": {
              "type": "dataframe",
              "summary": "{\n  \"name\": \"data_moods\",\n  \"rows\": 8,\n  \"fields\": [\n    {\n      \"column\": \"popularity\",\n      \"properties\": {\n        \"dtype\": \"number\",\n        \"std\": 229.50727010123168,\n        \"min\": 0.0,\n        \"max\": 686.0,\n        \"num_unique_values\": 8,\n        \"samples\": [\n          41.534985422740526,\n          47.0,\n          686.0\n        ],\n        \"semantic_type\": \"\",\n        \"description\": \"\"\n      }\n    },\n    {\n      \"column\": \"length\",\n      \"properties\": {\n        \"dtype\": \"number\",\n        \"std\": 159619.58696737056,\n        \"min\": 686.0,\n        \"max\": 518373.0,\n        \"num_unique_values\": 8,\n        \"samples\": [\n          221791.48542274052,\n          213273.0,\n          686.0\n        ],\n        \"semantic_type\": \"\",\n        \"description\": \"\"\n      }\n    },\n    {\n      \"column\": \"danceability\",\n      \"properties\": {\n        \"dtype\": \"number\",\n        \"std\": 242.37693614287855,\n        \"min\": 0.0789,\n        \"max\": 686.0,\n        \"num_unique_values\": 8,\n        \"samples\": [\n          0.5005527696793003,\n          0.505,\n          686.0\n        ],\n        \"semantic_type\": \"\",\n        \"description\": \"\"\n      }\n    },\n    {\n      \"column\": \"acousticness\",\n      \"properties\": {\n        \"dtype\": \"number\",\n        \"std\": 242.37949849374402,\n        \"min\": 5.36e-06,\n        \"max\": 686.0,\n        \"num_unique_values\": 8,\n        \"samples\": [\n          0.4497489431195335,\n          0.359,\n          686.0\n        ],\n        \"semantic_type\": \"\",\n        \"description\": \"\"\n      }\n    },\n    {\n      \"column\": \"energy\",\n      \"properties\": {\n        \"dtype\": \"number\",\n        \"std\": 242.3675805324939,\n        \"min\": 0.00129,\n        \"max\": 686.0,\n        \"num_unique_values\": 8,\n        \"samples\": [\n          0.5076934693877551,\n          0.4955,\n          686.0\n        ],\n        \"semantic_type\": \"\",\n        \"description\": \"\"\n      }\n    },\n    {\n      \"column\": \"instrumentalness\",\n      \"properties\": {\n        \"dtype\": \"number\",\n        \"std\": 242.4060535569724,\n        \"min\": 0.0,\n        \"max\": 686.0,\n        \"num_unique_values\": 8,\n        \"samples\": [\n          0.34961035886297376,\n          0.02635,\n          686.0\n        ],\n        \"semantic_type\": \"\",\n        \"description\": \"\"\n      }\n    },\n    {\n      \"column\": \"liveness\",\n      \"properties\": {\n        \"dtype\": \"number\",\n        \"std\": 242.45290412386288,\n        \"min\": 0.0318,\n        \"max\": 686.0,\n        \"num_unique_values\": 8,\n        \"samples\": [\n          0.16686749271137027,\n          0.111,\n          686.0\n        ],\n        \"semantic_type\": \"\",\n        \"description\": \"\"\n      }\n    },\n    {\n      \"column\": \"valence\",\n      \"properties\": {\n        \"dtype\": \"number\",\n        \"std\": 242.4100605391849,\n        \"min\": 0.0353,\n        \"max\": 686.0,\n        \"num_unique_values\": 8,\n        \"samples\": [\n          0.34243760932944606,\n          0.28200000000000003,\n          686.0\n        ],\n        \"semantic_type\": \"\",\n        \"description\": \"\"\n      }\n    },\n    {\n      \"column\": \"loudness\",\n      \"properties\": {\n        \"dtype\": \"number\",\n        \"std\": 246.79308197121946,\n        \"min\": -42.018,\n        \"max\": 686.0,\n        \"num_unique_values\": 8,\n        \"samples\": [\n          -11.531020408163263,\n          -9.358,\n          686.0\n        ],\n        \"semantic_type\": \"\",\n        \"description\": \"\"\n      }\n    },\n    {\n      \"column\": \"speechiness\",\n      \"properties\": {\n        \"dtype\": \"number\",\n        \"std\": 242.50403384206405,\n        \"min\": 0.0232,\n        \"max\": 686.0,\n        \"num_unique_values\": 8,\n        \"samples\": [\n          0.05394620991253644,\n          0.0407,\n          686.0\n        ],\n        \"semantic_type\": \"\",\n        \"description\": \"\"\n      }\n    },\n    {\n      \"column\": \"tempo\",\n      \"properties\": {\n        \"dtype\": \"number\",\n        \"std\": 211.44931051202624,\n        \"min\": 28.978685248557404,\n        \"max\": 686.0,\n        \"num_unique_values\": 8,\n        \"samples\": [\n          119.13467930029152,\n          120.071,\n          686.0\n        ],\n        \"semantic_type\": \"\",\n        \"description\": \"\"\n      }\n    },\n    {\n      \"column\": \"key\",\n      \"properties\": {\n        \"dtype\": \"number\",\n        \"std\": 240.70091941248677,\n        \"min\": 0.0,\n        \"max\": 686.0,\n        \"num_unique_values\": 8,\n        \"samples\": [\n          5.335276967930029,\n          6.0,\n          686.0\n        ],\n        \"semantic_type\": \"\",\n        \"description\": \"\"\n      }\n    },\n    {\n      \"column\": \"time_signature\",\n      \"properties\": {\n        \"dtype\": \"number\",\n        \"std\": 241.41299026796636,\n        \"min\": 0.5002967772804406,\n        \"max\": 686.0,\n        \"num_unique_values\": 6,\n        \"samples\": [\n          686.0,\n          3.870262390670554,\n          5.0\n        ],\n        \"semantic_type\": \"\",\n        \"description\": \"\"\n      }\n    }\n  ]\n}"
            }
          },
          "metadata": {},
          "execution_count": 6
        }
      ],
      "source": [
        "data_moods.describe()"
      ]
    },
    {
      "cell_type": "markdown",
      "metadata": {
        "id": "ugF1Z9SnLMKp"
      },
      "source": [
        "**Perintah untuk menampilkan datasheet dari yang paling atas**"
      ]
    },
    {
      "cell_type": "code",
      "execution_count": 7,
      "metadata": {
        "colab": {
          "base_uri": "https://localhost:8080/"
        },
        "id": "unFlUZhi6GCr",
        "outputId": "77ac4077-3a46-41d0-edfd-a56b9f69e20d"
      },
      "outputs": [
        {
          "output_type": "stream",
          "name": "stdout",
          "text": [
            "                                          name                        album  \\\n",
            "0                                         1999                         1999   \n",
            "1                                           23                           23   \n",
            "2                                     9 Crimes                            9   \n",
            "3                               99 Luftballons               99 Luftballons   \n",
            "4  A Boy Brushed Red Living In Black And White  They're Only Chasing Safety   \n",
            "\n",
            "           artist                      id    reledate  popularity  length  \\\n",
            "0          Prince  2H7PHVdQ3mXqEHXcvclTB0  1982-10-27          68  379266   \n",
            "1  Blonde Redhead  4HIwL9ii9CcXpTOTzMq0MP  2007-04-16          43  318800   \n",
            "2     Damien Rice  5GZEeowhvSieFDiR8fQ2im  2006-11-06          60  217946   \n",
            "3            Nena  6HA97v4wEGQ5TUClRM0XLc  1984-08-21           2  233000   \n",
            "4       Underoath  47IWLfIKOKhFnz1FUEUIkE  2004-01-01          60  268000   \n",
            "\n",
            "   danceability  acousticness  energy  instrumentalness  liveness  valence  \\\n",
            "0         0.866       0.13700   0.730          0.000000    0.0843    0.625   \n",
            "1         0.381       0.01890   0.832          0.196000    0.1530    0.166   \n",
            "2         0.346       0.91300   0.139          0.000077    0.0934    0.116   \n",
            "3         0.466       0.08900   0.438          0.000006    0.1130    0.587   \n",
            "4         0.419       0.00171   0.932          0.000000    0.1370    0.445   \n",
            "\n",
            "   loudness  speechiness    tempo  key  time_signature       mood  \n",
            "0    -8.201       0.0767  118.523    5               4  Happyase_  \n",
            "1    -5.069       0.0492  120.255    8               4        Sad  \n",
            "2   -15.326       0.0321  136.168    0               4        Sad  \n",
            "3   -12.858       0.0608  193.100    4               4      Happy  \n",
            "4    -3.604       0.1060  169.881    1               4  Energetic  \n"
          ]
        }
      ],
      "source": [
        "print(data_moods.head())"
      ]
    },
    {
      "cell_type": "markdown",
      "metadata": {
        "id": "vFWS3_S0KRnz"
      },
      "source": [
        "**Mengganti nama kolom fitur \"tempo\", menjadi \"Kecepatan\"**"
      ]
    },
    {
      "cell_type": "code",
      "execution_count": 9,
      "metadata": {
        "id": "l0--4g5eKHUN"
      },
      "outputs": [],
      "source": [
        "data_moods.rename(columns={'tempo': 'kecepatan'}, inplace=True)"
      ]
    },
    {
      "cell_type": "markdown",
      "metadata": {
        "id": "CzVwI5XlLUFE"
      },
      "source": [
        "**Mengecek nilai null pada kolom fitur maupun target**"
      ]
    },
    {
      "cell_type": "code",
      "execution_count": 10,
      "metadata": {
        "colab": {
          "base_uri": "https://localhost:8080/"
        },
        "id": "Aj2VQlEE6JW3",
        "outputId": "43b5aa18-c7d0-441d-81ae-b0a48ae22f64"
      },
      "outputs": [
        {
          "output_type": "stream",
          "name": "stdout",
          "text": [
            "name                0\n",
            "album               0\n",
            "artist              0\n",
            "id                  0\n",
            "reledate            0\n",
            "popularity          0\n",
            "length              0\n",
            "danceability        0\n",
            "acousticness        0\n",
            "energy              0\n",
            "instrumentalness    0\n",
            "liveness            0\n",
            "valence             0\n",
            "loudness            0\n",
            "speechiness         0\n",
            "kecepatan           0\n",
            "key                 0\n",
            "time_signature      0\n",
            "mood                0\n",
            "dtype: int64\n"
          ]
        }
      ],
      "source": [
        "print(data_moods.isnull().sum())"
      ]
    },
    {
      "cell_type": "markdown",
      "metadata": {
        "id": "eYbZ-RLMLaQr"
      },
      "source": [
        "**Mengecek Missing value pada datasheet**"
      ]
    },
    {
      "cell_type": "code",
      "execution_count": 11,
      "metadata": {
        "colab": {
          "base_uri": "https://localhost:8080/"
        },
        "id": "Vcb5E7WD6M5H",
        "outputId": "9635352b-0856-43ff-d91f-58a0e460faee"
      },
      "outputs": [
        {
          "output_type": "stream",
          "name": "stdout",
          "text": [
            "name                0\n",
            "album               0\n",
            "artist              0\n",
            "id                  0\n",
            "reledate            0\n",
            "popularity          0\n",
            "length              0\n",
            "danceability        0\n",
            "acousticness        0\n",
            "energy              0\n",
            "instrumentalness    0\n",
            "liveness            0\n",
            "valence             0\n",
            "loudness            0\n",
            "speechiness         0\n",
            "kecepatan           0\n",
            "key                 0\n",
            "time_signature      0\n",
            "mood                0\n",
            "dtype: int64\n"
          ]
        }
      ],
      "source": [
        "# Mengecek jumlah missing values per kolom\n",
        "missing_values = data_moods.isnull().sum()\n",
        "print(missing_values)"
      ]
    },
    {
      "cell_type": "markdown",
      "metadata": {
        "id": "3fvcQ7ZdLgAG"
      },
      "source": [
        "**Menghapus kolom target \"time_signature \" dan \"loudness\"**"
      ]
    },
    {
      "cell_type": "code",
      "execution_count": 13,
      "metadata": {
        "colab": {
          "base_uri": "https://localhost:8080/"
        },
        "id": "eI3ShaQb6Tvy",
        "outputId": "6b62ccc8-dc8c-4944-9e1a-f05f69df50f6"
      },
      "outputs": [
        {
          "output_type": "stream",
          "name": "stdout",
          "text": [
            "                                          name                        album  \\\n",
            "0                                         1999                         1999   \n",
            "1                                           23                           23   \n",
            "2                                     9 Crimes                            9   \n",
            "3                               99 Luftballons               99 Luftballons   \n",
            "4  A Boy Brushed Red Living In Black And White  They're Only Chasing Safety   \n",
            "\n",
            "           artist                      id    reledate  popularity  length  \\\n",
            "0          Prince  2H7PHVdQ3mXqEHXcvclTB0  1982-10-27          68  379266   \n",
            "1  Blonde Redhead  4HIwL9ii9CcXpTOTzMq0MP  2007-04-16          43  318800   \n",
            "2     Damien Rice  5GZEeowhvSieFDiR8fQ2im  2006-11-06          60  217946   \n",
            "3            Nena  6HA97v4wEGQ5TUClRM0XLc  1984-08-21           2  233000   \n",
            "4       Underoath  47IWLfIKOKhFnz1FUEUIkE  2004-01-01          60  268000   \n",
            "\n",
            "   danceability  acousticness  energy  instrumentalness  liveness  valence  \\\n",
            "0         0.866       0.13700   0.730          0.000000    0.0843    0.625   \n",
            "1         0.381       0.01890   0.832          0.196000    0.1530    0.166   \n",
            "2         0.346       0.91300   0.139          0.000077    0.0934    0.116   \n",
            "3         0.466       0.08900   0.438          0.000006    0.1130    0.587   \n",
            "4         0.419       0.00171   0.932          0.000000    0.1370    0.445   \n",
            "\n",
            "   speechiness  kecepatan  key       mood  \n",
            "0       0.0767    118.523    5  Happyase_  \n",
            "1       0.0492    120.255    8        Sad  \n",
            "2       0.0321    136.168    0        Sad  \n",
            "3       0.0608    193.100    4      Happy  \n",
            "4       0.1060    169.881    1  Energetic  \n"
          ]
        }
      ],
      "source": [
        "# Menghapus kolom 'Wasting' dan 'loudness' dari dataset\n",
        "stunting_data_cleaned = data_moods.drop(columns=['time_signature','loudness'])\n",
        "\n",
        "# Menampilkan dataset setelah kolom dihapus\n",
        "print(stunting_data_cleaned.head())"
      ]
    },
    {
      "cell_type": "code",
      "execution_count": 16,
      "metadata": {
        "colab": {
          "base_uri": "https://localhost:8080/"
        },
        "id": "sYNIBqFj6X3j",
        "outputId": "a769e205-48d0-4143-f60f-172f0891bcab"
      },
      "outputs": [
        {
          "output_type": "stream",
          "name": "stdout",
          "text": [
            "Kolom: popularity\n",
            "[68 43 60  2 27 29  1  0 55 52 53 38 84 24 13 51 39 85 22 63 36 58 44 56\n",
            " 75 48 26 57 30 34 50 31 72 32 37 46 20 61 71 42 66 79 74 45 41 77 40 62\n",
            "  5  9 47 78 54 11 59 70 76 49 28 35 23 87 19 33 69 21 65  3 83 73 12  8\n",
            "  7 64 67 82 25 80 18 17 14 15 88]\n",
            "------------------------------\n",
            "Kolom: danceability\n",
            "[0.866  0.381  0.346  0.466  0.419  0.394  0.504  0.586  0.603  0.331\n",
            " 0.349  0.532  0.382  0.543  0.671  0.456  0.492  0.402  0.279  0.494\n",
            " 0.189  0.429  0.488  0.422  0.737  0.363  0.391  0.486  0.463  0.693\n",
            " 0.313  0.664  0.388  0.613  0.694  0.696  0.535  0.265  0.396  0.497\n",
            " 0.383  0.512  0.401  0.471  0.399  0.408  0.541  0.44   0.572  0.732\n",
            " 0.531  0.321  0.459  0.666  0.387  0.868  0.171  0.769  0.235  0.476\n",
            " 0.407  0.548  0.612  0.667  0.438  0.441  0.249  0.519  0.627  0.443\n",
            " 0.446  0.775  0.537  0.621  0.45   0.552  0.663  0.736  0.31   0.554\n",
            " 0.186  0.435  0.374  0.507  0.614  0.341  0.699  0.18   0.421  0.607\n",
            " 0.351  0.431  0.941  0.619  0.567  0.305  0.198  0.455  0.242  0.825\n",
            " 0.686  0.635  0.689  0.592  0.855  0.515  0.542  0.379  0.482  0.43\n",
            " 0.639  0.722  0.608  0.555  0.629  0.516  0.556  0.642  0.526  0.485\n",
            " 0.474  0.587  0.296  0.27   0.434  0.604  0.701  0.545  0.563  0.602\n",
            " 0.831  0.591  0.511  0.616  0.754  0.354  0.524  0.605  0.653  0.339\n",
            " 0.772  0.749  0.158  0.59   0.553  0.651  0.211  0.32   0.444  0.464\n",
            " 0.631  0.879  0.282  0.813  0.368  0.332  0.468  0.7    0.491  0.411\n",
            " 0.416  0.579  0.42   0.5    0.428  0.609  0.205  0.2    0.273  0.475\n",
            " 0.517  0.481  0.64   0.467  0.352  0.312  0.534  0.478  0.794  0.883\n",
            " 0.544  0.0789 0.547  0.87   0.403  0.484  0.284  0.566  0.365  0.353\n",
            " 0.373  0.845  0.508  0.584  0.276  0.578  0.539  0.557  0.574  0.502\n",
            " 0.784  0.404  0.6    0.439  0.714  0.389  0.52   0.636  0.768  0.731\n",
            " 0.67   0.21   0.576  0.575  0.432  0.479  0.503  0.529  0.283  0.266\n",
            " 0.705  0.487  0.674  0.647  0.558  0.803  0.348  0.19   0.247  0.385\n",
            " 0.47   0.376  0.898  0.806  0.559  0.628  0.72   0.658  0.546  0.596\n",
            " 0.309  0.301  0.741  0.238  0.54   0.645  0.457  0.367  0.46   0.489\n",
            " 0.588  0.448  0.48   0.632  0.15   0.465  0.49   0.626  0.369  0.577\n",
            " 0.221  0.692  0.244  0.795  0.522  0.449  0.424  0.0903 0.328  0.398\n",
            " 0.594  0.364  0.665  0.378  0.656  0.764  0.268  0.509  0.38   0.581\n",
            " 0.877  0.68   0.187  0.286  0.661  0.62   0.681  0.56   0.271  0.864\n",
            " 0.637  0.523  0.25   0.298  0.646  0.778  0.134  0.319  0.274  0.356\n",
            " 0.261  0.549  0.118  0.306  0.461  0.708  0.733  0.299  0.315  0.157\n",
            " 0.593  0.597  0.625  0.501  0.304  0.648  0.601  0.716  0.751  0.35\n",
            " 0.275  0.362  0.743  0.745  0.9    0.263  0.571  0.742  0.445  0.317\n",
            " 0.684  0.395  0.71   0.55   0.423  0.437  0.342  0.246  0.865  0.655\n",
            " 0.472  0.272  0.371  0.618  0.234  0.65   0.615  0.308  0.61   0.149\n",
            " 0.564  0.496  0.34   0.39   0.506  0.573  0.212  0.233  0.425  0.303\n",
            " 0.414  0.41   0.316  0.709  0.343  0.436  0.334  0.216  0.682  0.533\n",
            " 0.258  0.702  0.695  0.264  0.327  0.703  0.325  0.561  0.323  0.623\n",
            " 0.643  0.201  0.366  0.357  0.236  0.589  0.162  0.641  0.495  0.442\n",
            " 0.322  0.256  0.336  0.498  0.776  0.213  0.79   0.412  0.124  0.392\n",
            " 0.291  0.518  0.634  0.725  0.763  0.51   0.259  0.452  0.377 ]\n",
            "------------------------------\n",
            "Kolom: energy\n",
            "[0.73    0.832   0.139   0.438   0.932   0.0475  0.0584  0.935   0.908\n",
            " 0.876   0.793   0.541   0.333   0.991   0.373   0.0337  0.95    0.75\n",
            " 0.423   0.847   0.427   0.689   0.879   0.982   0.264   0.816   0.906\n",
            " 0.0576  0.0121  0.356   0.462   0.195   0.973   0.86    0.8     0.953\n",
            " 0.824   0.871   0.147   0.035   0.0943  0.93    0.865   0.0197  0.352\n",
            " 0.199   0.289   0.443   0.00518 0.968   0.384   0.155   0.52    0.892\n",
            " 0.11    0.575   0.668   0.234   0.347   0.185   0.701   0.187   0.522\n",
            " 0.549   0.864   0.68    0.857   0.938   0.268   0.129   0.236   0.902\n",
            " 0.944   0.722   0.0586  0.66    0.345   0.877   0.037   0.643   0.957\n",
            " 0.308   0.811   0.0313  0.667   0.271   0.774   0.426   0.836   0.934\n",
            " 0.0582  0.87    0.0754  0.136   0.24    0.144   0.421   0.663   0.39\n",
            " 0.229   0.615   0.856   0.677   0.292   0.137   0.925   0.955   0.0302\n",
            " 0.456   0.587   0.977   0.43    0.189   0.695   0.0257  0.256   0.231\n",
            " 0.267   0.492   0.696   0.174   0.98    0.327   0.407   0.913   0.475\n",
            " 0.359   0.471   0.497   0.41    0.97    0.382   0.652   0.9     0.0384\n",
            " 0.531   0.894   0.478   0.632   0.784   0.789   0.544   0.963   0.622\n",
            " 0.202   0.804   0.919   0.319   0.907   0.142   0.699   0.0963  0.828\n",
            " 0.926   0.503   0.0147  0.99    0.38    0.547   0.476   0.619   0.974\n",
            " 0.967   0.255   0.201   0.769   0.751   0.831   0.962   0.411   0.161\n",
            " 0.135   0.713   0.0517  0.912   0.138   0.498   0.664   0.109   0.397\n",
            " 0.922   0.763   0.0246  0.00811 0.942   0.6     0.16    0.992   0.895\n",
            " 0.657   0.495   0.457   0.262   0.00792 0.00656 0.0544  0.191   0.881\n",
            " 0.744   0.888   0.947   0.808   0.367   0.251   0.882   0.432   0.854\n",
            " 0.54    0.92    0.734   0.946   0.989   0.675   0.249   0.835   0.454\n",
            " 0.253   0.4     0.305   0.921   0.852   0.417   0.94    0.569   0.948\n",
            " 0.34    0.00579 0.221   0.504   0.214   0.122   0.884   0.0028  0.0987\n",
            " 0.681   0.119   0.111   0.89    0.235   0.179   0.0154  0.975   0.488\n",
            " 0.226   0.167   0.526   0.833   0.493   0.277   0.019   0.0807  0.441\n",
            " 0.88    0.408   0.765   0.311   0.528   0.316   0.812   0.931   0.96\n",
            " 0.574   0.598   0.101   0.496   0.757   0.915   0.59    0.777   0.357\n",
            " 0.121   0.669   0.446   0.1     0.591   0.561   0.565   0.469   0.0145\n",
            " 0.875   0.844   0.154   0.521   0.0283  0.0838  0.183   0.0185  0.00643\n",
            " 0.254   0.71    0.0781  0.248   0.0595  0.217   0.163   0.323   0.362\n",
            " 0.338   0.817   0.826   0.0887  0.766   0.7     0.56    0.0181  0.723\n",
            " 0.85    0.245   0.00129 0.743   0.00977 0.494   0.583   0.219   0.178\n",
            " 0.0155  0.346   0.721   0.914   0.48    0.014   0.14    0.306   0.523\n",
            " 0.897   0.969   0.197   0.559   0.404   0.742   0.799   0.0212  0.613\n",
            " 0.00846 0.939   0.597   0.0214  0.585   0.639   0.0601  0.00332 0.0499\n",
            " 0.25    0.0604  0.0567  0.0879  0.0846  0.0407  0.272   0.863   0.068\n",
            " 0.0792  0.0624  0.102   0.0322  0.126   0.978   0.0755  0.739   0.293\n",
            " 0.994   0.317   0.177   0.532   0.644   0.708   0.858   0.0706  0.659\n",
            " 0.988   0.193   0.385   0.979   0.073   0.748   0.466   0.0203  0.216\n",
            " 0.873   0.172   0.106   0.402   0.0646  0.705   0.596   0.0657  0.966\n",
            " 0.0747  0.0311  0.482   0.571   0.321   0.794   0.337   0.15    0.887\n",
            " 0.606   0.37    0.839   0.0305  0.605   0.332   0.0229  0.771   0.564\n",
            " 0.275   0.79    0.0515  0.0281  0.599   0.861   0.499   0.923   0.448\n",
            " 0.964   0.823   0.32    0.463   0.693   0.0997  0.555   0.286   0.712\n",
            " 0.425   0.00338 0.218   0.127   0.0363  0.0845  0.299   0.515   0.956\n",
            " 0.901   0.753   0.726   0.546   0.369   0.0434  0.00961 0.524   0.91\n",
            " 0.655   0.0589  0.487   0.842   0.0761  0.0809  0.0717  0.0587  0.0077\n",
            " 0.849   0.263   0.279   0.134   0.3     0.905   0.0394  0.788   0.0518\n",
            " 0.851   0.678   0.983   0.33    0.756   0.0564  0.806   0.987   0.0191\n",
            " 0.12    0.577   0.951   0.537   0.149   0.0957  0.0167  0.378   0.0853\n",
            " 0.848   0.0442  0.972   0.896   0.0835  0.18    0.714   0.233   0.867\n",
            " 0.168   0.304   0.536   0.0355  0.759   0.862   0.363   0.671   0.039\n",
            " 0.775   0.419   0.761   0.477   0.314   0.258   0.372   0.296   0.157\n",
            " 0.355   0.259   0.03    0.374   0.0848  0.0156 ]\n",
            "------------------------------\n",
            "Kolom: valence\n",
            "[0.625  0.166  0.116  0.587  0.445  0.172  0.553  0.58   0.457  0.299\n",
            " 0.0398 0.329  0.0486 0.766  0.732  0.3    0.391  0.291  0.148  0.158\n",
            " 0.23   0.483  0.583  0.331  0.533  0.371  0.359  0.118  0.111  0.189\n",
            " 0.315  0.249  0.357  0.537  0.202  0.8    0.238  0.0651 0.109  0.195\n",
            " 0.595  0.113  0.275  0.0744 0.225  0.265  0.0381 0.505  0.0912 0.0949\n",
            " 0.339  0.599  0.173  0.183  0.765  0.408  0.659  0.264  0.168  0.0973\n",
            " 0.32   0.5    0.346  0.301  0.584  0.057  0.253  0.283  0.135  0.551\n",
            " 0.167  0.425  0.459  0.663  0.103  0.212  0.937  0.361  0.609  0.182\n",
            " 0.597  0.0684 0.448  0.0902 0.333  0.607  0.286  0.0514 0.778  0.0366\n",
            " 0.0505 0.51   0.0968 0.0491 0.787  0.142  0.133  0.0562 0.812  0.847\n",
            " 0.106  0.43   0.0644 0.567  0.447  0.237  0.698  0.64   0.731  0.104\n",
            " 0.0755 0.432  0.144  0.0882 0.666  0.93   0.193  0.643  0.381  0.17\n",
            " 0.73   0.453  0.348  0.065  0.074  0.37   0.146  0.0455 0.0724 0.0708\n",
            " 0.0935 0.415  0.477  0.318  0.88   0.601  0.918  0.856  0.0773 0.972\n",
            " 0.194  0.848  0.273  0.121  0.935  0.0395 0.636  0.164  0.574  0.558\n",
            " 0.0667 0.397  0.191  0.25   0.0558 0.962  0.759  0.186  0.774  0.353\n",
            " 0.0592 0.134  0.196  0.246  0.828  0.622  0.347  0.125  0.155  0.816\n",
            " 0.159  0.13   0.086  0.138  0.418  0.075  0.0503 0.405  0.288  0.514\n",
            " 0.131  0.174  0.0703 0.52   0.726  0.818  0.862  0.349  0.45   0.0409\n",
            " 0.374  0.0353 0.893  0.38   0.187  0.107  0.0621 0.0809 0.411  0.924\n",
            " 0.694  0.0715 0.419  0.588  0.18   0.623  0.204  0.618  0.394  0.423\n",
            " 0.455  0.401  0.337  0.534  0.119  0.854  0.284  0.388  0.0529 0.654\n",
            " 0.0389 0.351  0.378  0.867  0.639  0.255  0.0965 0.449  0.137  0.089\n",
            " 0.67   0.0903 0.112  0.82   0.66   0.151  0.707  0.179  0.9    0.0382\n",
            " 0.244  0.911  0.624  0.0485 0.257  0.661  0.309  0.742  0.97   0.667\n",
            " 0.157  0.0394 0.389  0.4    0.961  0.308  0.222  0.15   0.376  0.562\n",
            " 0.0379 0.797  0.673  0.0392 0.0365 0.913  0.242  0.442  0.417  0.215\n",
            " 0.481  0.0388 0.866  0.0926 0.414  0.123  0.213  0.0676 0.303  0.541\n",
            " 0.692  0.316  0.549  0.156  0.0653 0.0799 0.798  0.0404 0.869  0.147\n",
            " 0.16   0.0909 0.845  0.0796 0.0898 0.0647 0.0501 0.436  0.0964 0.341\n",
            " 0.356  0.741  0.897  0.296  0.412  0.528  0.117  0.136  0.0517 0.433\n",
            " 0.267  0.393  0.2    0.154  0.201  0.0697 0.367  0.26   0.538  0.0933\n",
            " 0.831  0.216  0.0869 0.382  0.458  0.689  0.502  0.0631 0.598  0.773\n",
            " 0.482  0.0638 0.536  0.203  0.888  0.543  0.0765 0.153  0.214  0.525\n",
            " 0.0827 0.0391 0.427  0.875  0.043  0.0633 0.437  0.715  0.965  0.241\n",
            " 0.0738 0.169  0.0741 0.0614 0.439  0.268  0.42   0.769  0.235  0.197\n",
            " 0.0399 0.35   0.0596 0.236  0.464  0.509  0.616  0.717  0.0877 0.149\n",
            " 0.184  0.467  0.0668 0.476  0.091  0.745  0.385  0.285  0.297  0.85\n",
            " 0.535  0.108  0.334  0.34   0.207  0.105  0.733  0.874  0.175  0.0634\n",
            " 0.0776 0.312  0.748  0.115  0.0374 0.0785 0.336  0.582  0.971  0.269\n",
            " 0.362  0.0835 0.56   0.729  0.515  0.161  0.29   0.422  0.552  0.39\n",
            " 0.335  0.655  0.863  0.077  0.372  0.876  0.0694 0.977  0.261  0.966\n",
            " 0.262  0.633  0.247  0.413  0.366  0.19   0.132  0.0354 0.0481 0.0795\n",
            " 0.577  0.399  0.796  0.292  0.343  0.305  0.0989 0.0823 0.62   0.0916\n",
            " 0.229  0.14   0.712  0.36   0.0378 0.209  0.0687 0.0735 0.0866 0.0604\n",
            " 0.206  0.342  0.0728 0.836  0.489  0.124  0.162  0.281  0.171  0.0754\n",
            " 0.647  0.254  0.181  0.251  0.508  0.416  0.469  0.0652 0.0361 0.721\n",
            " 0.272  0.243  0.0659 0.0525 0.507  0.92   0.0655 0.0682 0.259  0.532\n",
            " 0.485  0.506  0.038  0.12   0.0376 0.185  0.375  0.486  0.479  0.22\n",
            " 0.438  0.955  0.0774 0.454  0.744  0.0613 0.611  0.576  0.488  0.0883\n",
            " 0.608  0.76   0.0698 0.817  0.0403 0.198  0.0804]\n",
            "------------------------------\n",
            "Kolom: mood\n",
            "['Happyase_' 'Sad' 'Happy' 'Energetic' 'Calm']\n",
            "------------------------------\n"
          ]
        }
      ],
      "source": [
        "# Menampilkan value unik dari kolom tertentu dengan filter untuk 'data_moods'\n",
        "columns_to_check = ['popularity', 'danceability', 'energy', 'valence', 'mood']\n",
        "\n",
        "# Menggunakan DataFrame yang telah dimuat sebelumnya\n",
        "for column in columns_to_check:\n",
        "    print(f\"Kolom: {column}\")\n",
        "\n",
        "    if column == 'mood':\n",
        "        # Menampilkan nilai unik dari kolom 'mood'\n",
        "        print(data_moods[column].unique())\n",
        "    else:\n",
        "        # Menampilkan nilai unik untuk kolom selain 'mood'\n",
        "        print(data_moods[column].unique())\n",
        "\n",
        "    print(\"-\" * 30)\n"
      ]
    },
    {
      "cell_type": "code",
      "execution_count": 17,
      "metadata": {
        "id": "XE0U6uXcF_gj",
        "colab": {
          "base_uri": "https://localhost:8080/"
        },
        "outputId": "f5c78357-151a-422b-9caf-6553bb118f0e"
      },
      "outputs": [
        {
          "output_type": "stream",
          "name": "stdout",
          "text": [
            "Fitur (X):\n",
            "    popularity  danceability  energy  valence\n",
            "1           43         0.381   0.832    0.166\n",
            "2           60         0.346   0.139    0.116\n",
            "3            2         0.466   0.438    0.587\n",
            "7            1         0.586   0.935    0.580\n",
            "14          84         0.671   0.373    0.732\n",
            "\n",
            "Target (y):\n",
            "1       Sad\n",
            "2       Sad\n",
            "3     Happy\n",
            "7     Happy\n",
            "14    Happy\n",
            "Name: mood, dtype: object\n"
          ]
        }
      ],
      "source": [
        "# Mengambil data yang hanya memiliki mood tertentu\n",
        "filtered_moods = ['Happy', 'Sad']  # Contoh filter mood\n",
        "data_moods_cleaned = data_moods[data_moods['mood'].isin(filtered_moods)]\n",
        "\n",
        "# Menggunakan fitur yang tersisa\n",
        "X = data_moods_cleaned[['popularity', 'danceability', 'energy', 'valence']]  # Fitur numerik\n",
        "y = data_moods_cleaned['mood']  # Target adalah kolom 'mood'\n",
        "\n",
        "# Menampilkan informasi dataset yang telah difilter\n",
        "print(\"Fitur (X):\")\n",
        "print(X.head())\n",
        "print(\"\\nTarget (y):\")\n",
        "print(y.head())\n"
      ]
    },
    {
      "cell_type": "code",
      "execution_count": 18,
      "metadata": {
        "colab": {
          "base_uri": "https://localhost:8080/"
        },
        "id": "QZD0LExcF0w0",
        "outputId": "dc781569-1292-4638-9687-30330af60c82"
      },
      "outputs": [
        {
          "output_type": "stream",
          "name": "stdout",
          "text": [
            "Mapping kategori ke angka: {'Happy': 0, 'Sad': 1}\n",
            "                                                 name  \\\n",
            "1                                                  23   \n",
            "2                                            9 Crimes   \n",
            "3                                      99 Luftballons   \n",
            "7   A Little Less Conversation - JXL Radio Edit Remix   \n",
            "14                                             Africa   \n",
            "\n",
            "                              album          artist  popularity  length  \\\n",
            "1                                23  Blonde Redhead          43  318800   \n",
            "2                                 9     Damien Rice          60  217946   \n",
            "3                    99 Luftballons            Nena           2  233000   \n",
            "7   Elvis 75 - Good Rockin' Tonight   Elvis Presley           1  211173   \n",
            "14                          Toto IV            TOTO          84  295893   \n",
            "\n",
            "    danceability  acousticness  energy  instrumentalness  liveness  valence  \\\n",
            "1          0.381      0.018900   0.832          0.196000    0.1530    0.166   \n",
            "2          0.346      0.913000   0.139          0.000077    0.0934    0.116   \n",
            "3          0.466      0.089000   0.438          0.000006    0.1130    0.587   \n",
            "7          0.586      0.000155   0.935          0.277000    0.1590    0.580   \n",
            "14         0.671      0.257000   0.373          0.000080    0.0481    0.732   \n",
            "\n",
            "    loudness  kecepatan  key  time_signature  mood  \n",
            "1     -5.069    120.255    8               4     1  \n",
            "2    -15.326    136.168    0               4     1  \n",
            "3    -12.858    193.100    4               4     0  \n",
            "7     -9.386    114.997    4               4     0  \n",
            "14   -18.064     92.717    9               4     0  \n"
          ]
        }
      ],
      "source": [
        "from sklearn.preprocessing import LabelEncoder\n",
        "\n",
        "# Menghapus kolom yang tidak diperlukan\n",
        "data_moods_cleaned = data_moods.drop(columns=['id', 'reledate', 'speechiness'])\n",
        "\n",
        "# Filter data untuk hanya menyertakan kategori tertentu di kolom 'mood'\n",
        "filtered_moods = ['Happy', 'Sad']  # Contoh filter\n",
        "data_moods_filtered = data_moods_cleaned[data_moods_cleaned['mood'].isin(filtered_moods)]\n",
        "\n",
        "# Inisialisasi LabelEncoder\n",
        "label_encoder = LabelEncoder()\n",
        "\n",
        "# Mengonversi kolom 'mood' menjadi numerik\n",
        "data_moods_filtered['mood'] = label_encoder.fit_transform(data_moods_filtered['mood'])\n",
        "\n",
        "# Menampilkan mapping kategori ke angka\n",
        "label_mapping = dict(zip(label_encoder.classes_, label_encoder.transform(label_encoder.classes_)))\n",
        "print(\"Mapping kategori ke angka:\", label_mapping)\n",
        "\n",
        "# Menampilkan hasil dataset setelah konversi\n",
        "print(data_moods_filtered.head())\n"
      ]
    },
    {
      "cell_type": "markdown",
      "metadata": {
        "id": "CyDcXVXkNL4J"
      },
      "source": [
        "**Matriks Koorelasinya**"
      ]
    },
    {
      "cell_type": "code",
      "execution_count": 20,
      "metadata": {
        "colab": {
          "base_uri": "https://localhost:8080/",
          "height": 774
        },
        "id": "GGkYvhD-NHwL",
        "outputId": "c95d44a1-0bc5-4ef5-f7dc-5c1da086dd93"
      },
      "outputs": [
        {
          "output_type": "display_data",
          "data": {
            "text/plain": [
              "<Figure size 1000x800 with 2 Axes>"
            ],
            "image/png": "[encoded data removed]"
          },
          "metadata": {}
        }
      ],
      "source": [
        "import seaborn as sns\n",
        "import matplotlib.pyplot as plt\n",
        "\n",
        "# Hitung matriks korelasi untuk kolom numerik\n",
        "numeric_columns = ['popularity', 'danceability', 'energy', 'valence', 'acousticness',\n",
        "                   'liveness', 'liveness', 'kecepatan']\n",
        "correlation_matrix = data_moods_filtered[numeric_columns].corr()\n",
        "\n",
        "# Buat heatmap\n",
        "plt.figure(figsize=(10, 8))  # Atur ukuran figure\n",
        "sns.heatmap(correlation_matrix, annot=True, cmap='coolwarm', fmt=\".2f\")\n",
        "plt.title(\"Matriks Korelasi\")\n",
        "plt.show()\n"
      ]
    },
    {
      "cell_type": "markdown",
      "metadata": {
        "id": "G1CghOgfNgN2"
      },
      "source": [
        "# **EDA**"
      ]
    },
    {
      "cell_type": "markdown",
      "metadata": {
        "id": "PYTYQLn7Nkyn"
      },
      "source": [
        "**a. PIE CHART**"
      ]
    },
    {
      "cell_type": "code",
      "execution_count": 21,
      "metadata": {
        "colab": {
          "base_uri": "https://localhost:8080/",
          "height": 521
        },
        "id": "R-VroWOLNcoI",
        "outputId": "887d7d73-bf15-4903-ee32-a9030092eaa0"
      },
      "outputs": [
        {
          "output_type": "display_data",
          "data": {
            "text/plain": [
              "<Figure size 600x600 with 1 Axes>"
            ],
            "image/png": "[encoded data removed]"
          },
          "metadata": {}
        }
      ],
      "source": [
        "import matplotlib.pyplot as plt\n",
        "\n",
        "# Hitung jumlah data untuk setiap kategori mood\n",
        "mood_counts = data_moods_filtered['mood'].value_counts()\n",
        "\n",
        "# Buat pie chart\n",
        "plt.figure(figsize=(6, 6))  # Atur ukuran figure\n",
        "plt.pie(mood_counts, labels=mood_counts.index, autopct='%1.1f%%', startangle=90, colors=sns.color_palette(\"pastel\"))\n",
        "plt.title('Proporsi Mood')\n",
        "plt.show()\n"
      ]
    },
    {
      "cell_type": "markdown",
      "metadata": {
        "id": "NCLm9mVWOgED"
      },
      "source": [
        "**b. BAR CHART**"
      ]
    },
    {
      "cell_type": "code",
      "execution_count": 22,
      "metadata": {
        "colab": {
          "base_uri": "https://localhost:8080/",
          "height": 564
        },
        "id": "meRVO6f2NxBm",
        "outputId": "cdf8cafe-8375-405c-8293-3a09e2793526"
      },
      "outputs": [
        {
          "output_type": "display_data",
          "data": {
            "text/plain": [
              "<Figure size 800x600 with 1 Axes>"
            ],
            "image/png": "[encoded data removed]"
          },
          "metadata": {}
        }
      ],
      "source": [
        "# Hitung jumlah data untuk setiap kategori mood\n",
        "mood_counts = data_moods_filtered['mood'].value_counts()\n",
        "\n",
        "# Kategori dan jumlah data\n",
        "categories = mood_counts.index\n",
        "counts = mood_counts.values\n",
        "\n",
        "# Plot bar chart\n",
        "plt.figure(figsize=(8, 6))\n",
        "plt.bar(categories, counts, color=['skyblue', 'salmon'])\n",
        "plt.title('Jumlah Data untuk Setiap Kategori Mood')\n",
        "plt.xlabel('Kategori Mood')\n",
        "plt.ylabel('Jumlah Data')\n",
        "\n",
        "# Menggunakan label asli dengan label_mapping\n",
        "plt.xticks(categories, [label_mapping[cat] if cat in label_mapping else cat for cat in categories])\n",
        "plt.show()\n"
      ]
    },
    {
      "cell_type": "markdown",
      "metadata": {
        "id": "EXVa176jPt1g"
      },
      "source": [
        "**c. HISTOGRAM**"
      ]
    },
    {
      "cell_type": "code",
      "execution_count": 23,
      "metadata": {
        "colab": {
          "base_uri": "https://localhost:8080/",
          "height": 507
        },
        "id": "t3teu7GnPJkG",
        "outputId": "192648e9-a389-40b4-9654-c2039bd1e0ba"
      },
      "outputs": [
        {
          "output_type": "display_data",
          "data": {
            "text/plain": [
              "<Figure size 1500x500 with 3 Axes>"
            ],
            "image/png": "[encoded data removed]"
          },
          "metadata": {}
        }
      ],
      "source": [
        "plt.figure(figsize=(15, 5))\n",
        "\n",
        "# Histogram untuk 'popularity'\n",
        "plt.subplot(1, 3, 1)  # 1 baris, 3 kolom, plot pertama\n",
        "plt.hist(data_moods_filtered['popularity'], bins=10, color='skyblue')\n",
        "plt.title('Distribusi Popularity')\n",
        "plt.xlabel('Popularity')\n",
        "plt.ylabel('Frekuensi')\n",
        "\n",
        "# Histogram untuk 'danceability'\n",
        "plt.subplot(1, 3, 2)  # 1 baris, 3 kolom, plot kedua\n",
        "plt.hist(data_moods_filtered['danceability'], bins=10, color='salmon')\n",
        "plt.title('Distribusi Danceability')\n",
        "plt.xlabel('Danceability')\n",
        "plt.ylabel('Frekuensi')\n",
        "\n",
        "# Histogram untuk 'energy'\n",
        "plt.subplot(1, 3, 3)  # 1 baris, 3 kolom, plot ketiga\n",
        "plt.hist(data_moods_filtered['energy'], bins=10, color='lightgreen')\n",
        "plt.title('Distribusi Energy')\n",
        "plt.xlabel('Energy')\n",
        "plt.ylabel('Frekuensi')\n",
        "\n",
        "plt.tight_layout()\n",
        "plt.show()\n"
      ]
    },
    {
      "cell_type": "markdown",
      "metadata": {
        "id": "mop4AB0WPz7K"
      },
      "source": [
        "**d. BOX PLOT**"
      ]
    },
    {
      "cell_type": "code",
      "execution_count": 24,
      "metadata": {
        "colab": {
          "base_uri": "https://localhost:8080/",
          "height": 487
        },
        "id": "25tLDshLPORL",
        "outputId": "1dd0fc46-c8ba-42d0-afca-a0f55a2183c5"
      },
      "outputs": [
        {
          "output_type": "display_data",
          "data": {
            "text/plain": [
              "<Figure size 1000x500 with 1 Axes>"
            ],
            "image/png": "[encoded data removed]"
          },
          "metadata": {}
        }
      ],
      "source": [
        "plt.figure(figsize=(10, 5))\n",
        "\n",
        "# Box plot untuk 'popularity'\n",
        "sns.boxplot(x='mood', y='popularity', data=data_moods_filtered, palette=['skyblue', 'salmon'])\n",
        "plt.title('Box Plot Popularity berdasarkan Mood')\n",
        "\n",
        "# Menggunakan label asli dengan label_mapping dan nilai numerik\n",
        "plt.xticks(ticks=range(len(label_encoder.classes_)), labels=label_encoder.classes_)  # Menampilkan label asli\n",
        "plt.xlabel('Mood')\n",
        "plt.ylabel('Popularity')\n",
        "plt.show()\n"
      ]
    },
    {
      "cell_type": "markdown",
      "metadata": {
        "id": "GIA-prLVFbrr"
      },
      "source": [
        "**Melakukan encoding**"
      ]
    },
    {
      "cell_type": "code",
      "execution_count": 25,
      "metadata": {
        "colab": {
          "base_uri": "https://localhost:8080/",
          "height": 1000
        },
        "id": "XOji_pWD627m",
        "outputId": "3754d86a-c388-48ed-fc15-d1e072c19074"
      },
      "outputs": [
        {
          "output_type": "display_data",
          "data": {
            "text/plain": [
              "<Figure size 1000x600 with 1 Axes>"
            ],
            "image/png": "[encoded data removed]"
          },
          "metadata": {}
        },
        {
          "output_type": "stream",
          "name": "stdout",
          "text": [
            "Logistic Regression:\n",
            "  Accuracy: 0.91\n",
            "  Precision: 0.91\n",
            "  Recall: 0.91\n",
            "  F1-Score: 0.91\n",
            "--------------------------------------------------\n",
            "SVM:\n",
            "  Accuracy: 0.59\n",
            "  Precision: 0.57\n",
            "  Recall: 0.56\n",
            "  F1-Score: 0.56\n",
            "--------------------------------------------------\n",
            "KNN:\n",
            "  Accuracy: 0.65\n",
            "  Precision: 0.64\n",
            "  Recall: 0.64\n",
            "  F1-Score: 0.64\n",
            "--------------------------------------------------\n",
            "Gradient Boosting:\n",
            "  Accuracy: 0.85\n",
            "  Precision: 0.85\n",
            "  Recall: 0.85\n",
            "  F1-Score: 0.85\n",
            "--------------------------------------------------\n",
            "Gradient Boosted Trees:\n",
            "  Accuracy: 0.84\n",
            "  Precision: 0.84\n",
            "  Recall: 0.85\n",
            "  F1-Score: 0.84\n",
            "--------------------------------------------------\n"
          ]
        }
      ],
      "source": [
        "from sklearn.metrics import classification_report, accuracy_score\n",
        "import matplotlib.pyplot as plt\n",
        "from sklearn.ensemble import GradientBoostingClassifier, RandomForestClassifier\n",
        "from sklearn.linear_model import LogisticRegression\n",
        "from sklearn.neighbors import KNeighborsClassifier\n",
        "from sklearn.ensemble import HistGradientBoostingClassifier\n",
        "from sklearn.model_selection import train_test_split\n",
        "from sklearn.svm import SVC\n",
        "\n",
        "# Split dataset menjadi training dan testing set\n",
        "X_train, X_test, y_train, y_test = train_test_split(X, y, test_size=0.2, random_state=42)\n",
        "\n",
        "# 3. Model Building\n",
        "models = {\n",
        "    \"Logistic Regression\": LogisticRegression(max_iter=1000),\n",
        "    \"SVM\": SVC(),\n",
        "    \"KNN\": KNeighborsClassifier(),\n",
        "    \"Gradient Boosting\": GradientBoostingClassifier(),\n",
        "    \"Gradient Boosted Trees\": HistGradientBoostingClassifier()\n",
        "}\n",
        "\n",
        "# Dictionary untuk menyimpan hasil\n",
        "accuracies = {}\n",
        "precision_scores = {}\n",
        "recall_scores = {}\n",
        "f1_scores = {}\n",
        "\n",
        "# Melatih dan menguji model\n",
        "for name, model in models.items():\n",
        "    model.fit(X_train, y_train)\n",
        "    y_pred = model.predict(X_test)\n",
        "\n",
        "    # Menghitung metrik\n",
        "    accuracies[name] = accuracy_score(y_test, y_pred)\n",
        "    report = classification_report(y_test, y_pred, output_dict=True)\n",
        "\n",
        "    # Simpan nilai precision, recall, f1-score untuk masing-masing model\n",
        "    precision_scores[name] = report['macro avg']['precision']\n",
        "    recall_scores[name] = report['macro avg']['recall']\n",
        "    f1_scores[name] = report['macro avg']['f1-score']\n",
        "\n",
        "# 4. Visualisasi Akurasi\n",
        "plt.figure(figsize=(10, 6))\n",
        "plt.bar(accuracies.keys(), accuracies.values(), color=['blue', 'green', 'red', 'purple', 'orange'])\n",
        "plt.title(\"Model Accuracy Comparison\")\n",
        "plt.ylabel(\"Accuracy\")\n",
        "plt.xticks(rotation=45)\n",
        "plt.ylim(0, 1)\n",
        "plt.show()\n",
        "\n",
        "# Print akurasi, precision, recall, f1-score untuk setiap model\n",
        "for name in models.keys():\n",
        "    print(f\"{name}:\")\n",
        "    print(f\"  Accuracy: {accuracies[name]:.2f}\")\n",
        "    print(f\"  Precision: {precision_scores[name]:.2f}\")\n",
        "    print(f\"  Recall: {recall_scores[name]:.2f}\")\n",
        "    print(f\"  F1-Score: {f1_scores[name]:.2f}\")\n",
        "    print(\"-\" * 50)\n"
      ]
    },
    {
      "cell_type": "markdown",
      "metadata": {
        "id": "zN7ULopq7ttO"
      },
      "source": [
        "#**Menyimpan Model yang sudah ditentukan**"
      ]
    },
    {
      "cell_type": "code",
      "execution_count": 26,
      "metadata": {
        "colab": {
          "base_uri": "https://localhost:8080/"
        },
        "id": "C31JZ4U77U0d",
        "outputId": "b5a844cd-a811-404a-d235-cc8f40e53d33"
      },
      "outputs": [
        {
          "output_type": "stream",
          "name": "stdout",
          "text": [
            "Model Gradient Boosted Trees berhasil disimpan ke file: GradientBoostedTrees.pkl\n"
          ]
        }
      ],
      "source": [
        "import joblib\n",
        "\n",
        "# Simpan model Gradient Boosted Trees ke file\n",
        "model_filename = \"GradientBoostedTrees.pkl\"\n",
        "joblib.dump(models[\"Gradient Boosted Trees\"], model_filename)\n",
        "print(f\"Model Gradient Boosted Trees berhasil disimpan ke file: {model_filename}\")\n"
      ]
    },
    {
      "cell_type": "markdown",
      "metadata": {
        "id": "zB2zXPhx71Dh"
      },
      "source": [
        "#**Lalu melakukan Split dan Scaling data dan meyimpannya**"
      ]
    },
    {
      "cell_type": "code",
      "execution_count": 29,
      "metadata": {
        "colab": {
          "base_uri": "https://localhost:8080/"
        },
        "id": "Tky0L9UR7ghx",
        "outputId": "3b5f7d40-5c42-4248-ffb9-4fe30c4ac56d"
      },
      "outputs": [
        {
          "output_type": "stream",
          "name": "stdout",
          "text": [
            "Scaler telah disimpan ke file: Scaler.pkl\n"
          ]
        }
      ],
      "source": [
        "# 1. Load Dataset\n",
        "data_moods = pd.read_csv('/content/data_moods.csv')\n",
        "\n",
        "# 2. Pilih kolom yang relevan\n",
        "selected_columns = ['name', 'artist', 'popularity', 'mood', 'danceability', 'energy', 'valence']\n",
        "data_moods = data_moods[selected_columns]\n",
        "\n",
        "# 3. Pisahkan fitur (X) dan label (y)\n",
        "X = data_moods.drop(columns=['mood'])  # Fitur\n",
        "y = data_moods['mood']  # Label (target)\n",
        "\n",
        "# 4. Split Dataset\n",
        "from sklearn.model_selection import train_test_split\n",
        "X_train, X_test, y_train, y_test = train_test_split(\n",
        "    X, y, test_size=0.3, random_state=42\n",
        ")\n",
        "\n",
        "# 5. Preprocessing (Scaling)\n",
        "from sklearn.preprocessing import StandardScaler\n",
        "\n",
        "# Pilih hanya kolom numerik untuk scaling\n",
        "numerical_columns = ['popularity', 'danceability', 'energy', 'valence']\n",
        "X_train_scaled = X_train.copy()\n",
        "X_test_scaled = X_test.copy()\n",
        "\n",
        "scaler = StandardScaler()\n",
        "X_train_scaled[numerical_columns] = scaler.fit_transform(X_train[numerical_columns])\n",
        "X_test_scaled[numerical_columns] = scaler.transform(X_test[numerical_columns])\n",
        "\n",
        "# 6. Simpan Scaler\n",
        "import joblib\n",
        "scaler_filename = \"Scaler.pkl\"\n",
        "joblib.dump(scaler, scaler_filename)\n",
        "print(f\"Scaler telah disimpan ke file: {scaler_filename}\")\n",
        "\n",
        "# 7. Load Scaler (untuk\n"
      ]
    },
    {
      "cell_type": "markdown",
      "metadata": {
        "id": "Vr0P_5ti8H07"
      },
      "source": [
        "#**Melakukan prediksi dengan model yang sudah ditentukan diatas**"
      ]
    },
    {
      "cell_type": "code",
      "execution_count": 30,
      "metadata": {
        "colab": {
          "base_uri": "https://localhost:8080/"
        },
        "id": "ZcD8NzEH7b6G",
        "outputId": "248cfef8-4476-462b-e92d-7196d5e97c2d"
      },
      "outputs": [
        {
          "output_type": "stream",
          "name": "stdout",
          "text": [
            "Prediksi: Happy\n"
          ]
        }
      ],
      "source": [
        "import joblib\n",
        "import numpy as np\n",
        "import pandas as pd\n",
        "\n",
        "# Data baru (contoh nilai: popularity, danceability, energy, valence)\n",
        "new_data = np.array([[75, 0.8, 0.7, 0.6]])  # Ganti nilai sesuai kebutuhan\n",
        "\n",
        "# Ubah data baru ke DataFrame\n",
        "new_data_df = pd.DataFrame(new_data, columns=['popularity', 'danceability', 'energy', 'valence'])\n",
        "\n",
        "# Memuat scaler dari file\n",
        "scaler_filename = \"Scaler.pkl\"\n",
        "loaded_scaler = joblib.load(scaler_filename)\n",
        "\n",
        "# Scale data baru\n",
        "new_data_scaled = loaded_scaler.transform(new_data_df)\n",
        "\n",
        "# Memuat model Gradient Boosted Trees dari file\n",
        "model_filename = \"GradientBoostedTrees.pkl\"\n",
        "loaded_model = joblib.load(model_filename)\n",
        "\n",
        "# Prediksi menggunakan model\n",
        "hasil = loaded_model.predict(new_data_scaled)\n",
        "\n",
        "# Tampilkan hasil prediksi\n",
        "print(f\"Prediksi: {hasil[0]}\")\n"
      ]
    }
  ],
  "metadata": {
    "colab": {
      "provenance": []
    },
    "kernelspec": {
      "display_name": "Python 3",
      "name": "python3"
    },
    "language_info": {
      "name": "python"
    }
  },
  "nbformat": 4,
  "nbformat_minor": 0
}